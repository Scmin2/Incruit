{
  "nbformat": 4,
  "nbformat_minor": 0,
  "metadata": {
    "colab": {
      "name": "incruit3.ipynb",
      "provenance": [],
      "collapsed_sections": []
    },
    "kernelspec": {
      "name": "python3",
      "display_name": "Python 3"
    },
    "language_info": {
      "name": "python"
    },
    "accelerator": "GPU",
    "gpuClass": "standard"
  },
  "cells": [
    {
      "cell_type": "code",
      "execution_count": null,
      "metadata": {
        "colab": {
          "base_uri": "https://localhost:8080/"
        },
        "id": "7_oI7AhjPU9J",
        "outputId": "b05e1d1a-31e5-4d8f-e086-c3a84552c2ef"
      },
      "outputs": [
        {
          "output_type": "stream",
          "name": "stdout",
          "text": [
            "Looking in indexes: https://pypi.org/simple, https://us-python.pkg.dev/colab-wheels/public/simple/\n",
            "Collecting konlpy\n",
            "  Downloading konlpy-0.6.0-py2.py3-none-any.whl (19.4 MB)\n",
            "\u001b[K     |████████████████████████████████| 19.4 MB 1.2 MB/s \n",
            "\u001b[?25hRequirement already satisfied: lxml>=4.1.0 in /usr/local/lib/python3.7/dist-packages (from konlpy) (4.2.6)\n",
            "Collecting JPype1>=0.7.0\n",
            "  Downloading JPype1-1.4.0-cp37-cp37m-manylinux_2_5_x86_64.manylinux1_x86_64.whl (453 kB)\n",
            "\u001b[K     |████████████████████████████████| 453 kB 68.0 MB/s \n",
            "\u001b[?25hRequirement already satisfied: numpy>=1.6 in /usr/local/lib/python3.7/dist-packages (from konlpy) (1.21.6)\n",
            "Requirement already satisfied: typing-extensions in /usr/local/lib/python3.7/dist-packages (from JPype1>=0.7.0->konlpy) (4.1.1)\n",
            "Installing collected packages: JPype1, konlpy\n",
            "Successfully installed JPype1-1.4.0 konlpy-0.6.0\n"
          ]
        }
      ],
      "source": [
        "import pandas as pd\n",
        "import numpy as np\n",
        "!pip install konlpy"
      ]
    },
    {
      "cell_type": "code",
      "source": [
        "from google.colab import files\n",
        "uploaded = files.upload()"
      ],
      "metadata": {
        "colab": {
          "resources": {
            "http://localhost:8080/nbextensions/google.colab/files.js": {
              "data": "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",
              "ok": true,
              "headers": [
                [
                  "content-type",
                  "application/javascript"
                ]
              ],
              "status": 200,
              "status_text": ""
            }
          },
          "base_uri": "https://localhost:8080/",
          "height": 77
        },
        "id": "8-D5GAXEPn24",
        "outputId": "ba2da333-c731-4311-a2ab-084b898ced30"
      },
      "execution_count": null,
      "outputs": [
        {
          "output_type": "display_data",
          "data": {
            "text/plain": [
              "<IPython.core.display.HTML object>"
            ],
            "text/html": [
              "\n",
              "     <input type=\"file\" id=\"files-c5c64953-bd68-4628-8de8-77d4d578bb88\" name=\"files[]\" multiple disabled\n",
              "        style=\"border:none\" />\n",
              "     <output id=\"result-c5c64953-bd68-4628-8de8-77d4d578bb88\">\n",
              "      Upload widget is only available when the cell has been executed in the\n",
              "      current browser session. Please rerun this cell to enable.\n",
              "      </output>\n",
              "      <script src=\"/nbextensions/google.colab/files.js\"></script> "
            ]
          },
          "metadata": {}
        },
        {
          "output_type": "stream",
          "name": "stdout",
          "text": [
            "Saving Sheet2.xlsx to Sheet2.xlsx\n"
          ]
        }
      ]
    },
    {
      "cell_type": "code",
      "source": [
        "data1 = pd.read_excel('Sheet2.xlsx')"
      ],
      "metadata": {
        "id": "su0vBaXQQSTl"
      },
      "execution_count": null,
      "outputs": []
    },
    {
      "cell_type": "code",
      "source": [
        "from google.colab import files\n",
        "src = list(files.upload().values())[0]\n",
        "open('no_print2.py','wb').write(src)"
      ],
      "metadata": {
        "colab": {
          "resources": {
            "http://localhost:8080/nbextensions/google.colab/files.js": {
              "data": "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",
              "ok": true,
              "headers": [
                [
                  "content-type",
                  "application/javascript"
                ]
              ],
              "status": 200,
              "status_text": ""
            }
          },
          "base_uri": "https://localhost:8080/",
          "height": 95
        },
        "id": "GUnEllAuQhFw",
        "outputId": "446646d6-6614-4df8-cdfb-675dbe2ee8d6"
      },
      "execution_count": null,
      "outputs": [
        {
          "output_type": "display_data",
          "data": {
            "text/plain": [
              "<IPython.core.display.HTML object>"
            ],
            "text/html": [
              "\n",
              "     <input type=\"file\" id=\"files-de2690cb-38fd-4039-ad3a-f068b222b114\" name=\"files[]\" multiple disabled\n",
              "        style=\"border:none\" />\n",
              "     <output id=\"result-de2690cb-38fd-4039-ad3a-f068b222b114\">\n",
              "      Upload widget is only available when the cell has been executed in the\n",
              "      current browser session. Please rerun this cell to enable.\n",
              "      </output>\n",
              "      <script src=\"/nbextensions/google.colab/files.js\"></script> "
            ]
          },
          "metadata": {}
        },
        {
          "output_type": "stream",
          "name": "stdout",
          "text": [
            "Saving no_print2.py to no_print2.py\n"
          ]
        },
        {
          "output_type": "execute_result",
          "data": {
            "text/plain": [
              "6160"
            ]
          },
          "metadata": {},
          "execution_count": 6
        }
      ]
    },
    {
      "cell_type": "code",
      "source": [
        "from google.colab import files\n",
        "src = list(files.upload().values())[0]\n",
        "open('clean_sword.py','wb').write(src)"
      ],
      "metadata": {
        "colab": {
          "resources": {
            "http://localhost:8080/nbextensions/google.colab/files.js": {
              "data": "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",
              "ok": true,
              "headers": [
                [
                  "content-type",
                  "application/javascript"
                ]
              ],
              "status": 200,
              "status_text": ""
            }
          },
          "base_uri": "https://localhost:8080/",
          "height": 95
        },
        "id": "79_zNHxnQj1U",
        "outputId": "88ab21b6-d047-4eb5-8a49-7f06b10e7d73"
      },
      "execution_count": null,
      "outputs": [
        {
          "output_type": "display_data",
          "data": {
            "text/plain": [
              "<IPython.core.display.HTML object>"
            ],
            "text/html": [
              "\n",
              "     <input type=\"file\" id=\"files-439fcc5d-53d6-4f57-a1ec-8e3bbecb8c16\" name=\"files[]\" multiple disabled\n",
              "        style=\"border:none\" />\n",
              "     <output id=\"result-439fcc5d-53d6-4f57-a1ec-8e3bbecb8c16\">\n",
              "      Upload widget is only available when the cell has been executed in the\n",
              "      current browser session. Please rerun this cell to enable.\n",
              "      </output>\n",
              "      <script src=\"/nbextensions/google.colab/files.js\"></script> "
            ]
          },
          "metadata": {}
        },
        {
          "output_type": "stream",
          "name": "stdout",
          "text": [
            "Saving clean_sword.py to clean_sword.py\n"
          ]
        },
        {
          "output_type": "execute_result",
          "data": {
            "text/plain": [
              "3805"
            ]
          },
          "metadata": {},
          "execution_count": 7
        }
      ]
    },
    {
      "cell_type": "code",
      "source": [
        "from clean_sword import i_stop_word\n",
        "from no_print2 import extract_wq\n",
        "data2 = extract_wq(data1)"
      ],
      "metadata": {
        "id": "ZlHqyvEsQppq",
        "colab": {
          "base_uri": "https://localhost:8080/"
        },
        "outputId": "526b8699-1f72-45fd-e286-f5d5380c42a6"
      },
      "execution_count": null,
      "outputs": [
        {
          "output_type": "stream",
          "name": "stdout",
          "text": [
            "삭제된 work: 5274,추가로 삭제된 qauli: 596, 총 삭제건수 : 5870\n"
          ]
        }
      ]
    },
    {
      "cell_type": "code",
      "source": [
        "data3 = i_stop_word(data2)"
      ],
      "metadata": {
        "id": "WLKeAbGklC9p",
        "colab": {
          "base_uri": "https://localhost:8080/"
        },
        "outputId": "e049bf7f-c663-48db-a0ee-9d971038a9db"
      },
      "execution_count": null,
      "outputs": [
        {
          "output_type": "stream",
          "name": "stdout",
          "text": [
            " 관리            \t18688\n",
            " 개발            \t13824\n",
            " 기획            \t9505\n",
            " 운영            \t9143\n",
            " 분석            \t7565\n",
            " 채용            \t6190\n",
            " 사업            \t6135\n",
            " 기술            \t5910\n",
            " 영어            \t5738\n",
            " 대한            \t5534\n",
            " 설계            \t4902\n",
            " 전략            \t4771\n",
            " 작성            \t4702\n",
            " 수립            \t4645\n",
            " 능력            \t4640\n",
            " 대졸            \t4550\n",
            " 대리            \t4427\n",
            " 필수            \t4411\n",
            " 과장            \t4302\n",
            " 서비스           \t4241\n",
            " 시스템           \t4190\n",
            " 고객            \t4095\n",
            " 마케팅           \t4086\n",
            " 해외            \t3972\n",
            " 기업            \t3932\n",
            " 분야            \t3854\n",
            " 영업            \t3838\n",
            " 커뮤니케이션        \t3702\n",
            " 졸업            \t3590\n",
            " 수행            \t3344\n",
            " 프로젝트          \t3318\n",
            " 인사            \t3204\n",
            " 기타            \t3174\n",
            " 데이터           \t3061\n",
            " 활용            \t2912\n",
            " 차장            \t2867\n",
            " 기반            \t2829\n",
            " 역량            \t2732\n",
            " 이해            \t2660\n",
            " 구축            \t2627\n",
            " 검토            \t2571\n",
            " 협의            \t2549\n",
            " 제품            \t2501\n",
            " 사용            \t2492\n",
            " 개선            \t2481\n",
            " 대학교           \t2447\n",
            " 디자인           \t2437\n",
            " 산업            \t2415\n",
            " 해당            \t2394\n",
            " 회계            \t2371\n"
          ]
        }
      ]
    },
    {
      "cell_type": "code",
      "source": [
        "from sklearn.feature_extraction.text import TfidfVectorizer\n",
        "from sklearn.cluster import KMeans"
      ],
      "metadata": {
        "id": "Q1ijOetrQxvD"
      },
      "execution_count": null,
      "outputs": []
    },
    {
      "cell_type": "code",
      "source": [
        "# 문서를 명사 집합으로 보고 문서 리스트로 치환 (tfidfVectorizer 인풋 형태를 맞추기 위해)\n",
        "text = [\" \".join(noun) for noun in data3['full_work']]\n",
        "#tfidf_vectorizer = TfidfVectorizer(max_features = 1231,min_df = 10, ngram_range=(1,5))\n",
        "tfidf_vectorizer = TfidfVectorizer(min_df = 9, ngram_range=(1,5))\n",
        "tfidf_vectorizer.fit(text)\n",
        "vector1 = tfidf_vectorizer.transform(text).toarray()\n",
        "# 문서를 명사 집합으로 보고 문서 리스트로 치환 (tfidfVectorizer 인풋 형태를 맞추기 위해)\n",
        "text = [\" \".join(noun) for noun in data3['full_quali']]\n",
        "tfidf_vectorizer = TfidfVectorizer(min_df = 10, ngram_range=(1,5))\n",
        "#tfidf_vectorizer = TfidfVectorizer(max_features = 1231,min_df = 10, ngram_range=(1,5))\n",
        "tfidf_vectorizer.fit(text)\n",
        "vector2 = tfidf_vectorizer.transform(text).toarray()\n",
        "print(vector1.shape)\n",
        "print(vector2.shape)"
      ],
      "metadata": {
        "colab": {
          "base_uri": "https://localhost:8080/"
        },
        "id": "ryCHe6PZQ8WP",
        "outputId": "8458aef4-5fdf-4cc0-ceaa-9914eca18817"
      },
      "execution_count": null,
      "outputs": [
        {
          "output_type": "stream",
          "name": "stdout",
          "text": [
            "(12637, 14791)\n",
            "(12637, 15747)\n"
          ]
        }
      ]
    },
    {
      "cell_type": "code",
      "source": [
        "shape_list = []\n",
        "shape_list.append(vector1.shape[1])\n",
        "shape_list.append(vector2.shape[1])\n",
        "min_shape = np.min(shape_list)\n",
        "print(min_shape)"
      ],
      "metadata": {
        "id": "Gt6tvYz1RAuK",
        "colab": {
          "base_uri": "https://localhost:8080/"
        },
        "outputId": "7da96ed4-e889-414e-9b33-9d37a575f33d"
      },
      "execution_count": null,
      "outputs": [
        {
          "output_type": "stream",
          "name": "stdout",
          "text": [
            "14791\n"
          ]
        }
      ]
    },
    {
      "cell_type": "code",
      "source": [
        "#shape를 맞춘 값으로 다시 벡터화\n",
        "text = [\" \".join(noun) for noun in data3['full_work']]\n",
        "tfidf_vectorizer = TfidfVectorizer(max_features = min_shape,min_df = 9, ngram_range=(1,5))\n",
        "tfidf_vectorizer.fit(text)\n",
        "vector1 = tfidf_vectorizer.transform(text).toarray()\n",
        "text = [\" \".join(noun) for noun in data3['full_quali']]\n",
        "tfidf_vectorizer = TfidfVectorizer(max_features = min_shape,min_df = 10, ngram_range=(1,5))\n",
        "tfidf_vectorizer.fit(text)\n",
        "vector2 = tfidf_vectorizer.transform(text).toarray()\n",
        "print(vector1.shape)\n",
        "print(vector2.shape)"
      ],
      "metadata": {
        "id": "RtnicHykRDTZ",
        "colab": {
          "base_uri": "https://localhost:8080/"
        },
        "outputId": "0561d5a3-d468-466f-d4f4-2196988443eb"
      },
      "execution_count": null,
      "outputs": [
        {
          "output_type": "stream",
          "name": "stdout",
          "text": [
            "(12637, 14791)\n",
            "(12637, 14791)\n"
          ]
        }
      ]
    },
    {
      "cell_type": "code",
      "source": [
        "len(data3)"
      ],
      "metadata": {
        "colab": {
          "base_uri": "https://localhost:8080/"
        },
        "id": "OXWcFhIQRHjz",
        "outputId": "567dfc87-943c-42b9-cd7c-8b5cfc448245"
      },
      "execution_count": null,
      "outputs": [
        {
          "output_type": "execute_result",
          "data": {
            "text/plain": [
              "1236"
            ]
          },
          "metadata": {},
          "execution_count": 14
        }
      ]
    },
    {
      "cell_type": "markdown",
      "source": [
        "#elbow 기법을 통한 최적의 k값 도출, 군집분석 실시"
      ],
      "metadata": {
        "id": "7AKLSAohWQd_"
      }
    },
    {
      "cell_type": "code",
      "source": [
        "#성능 지표-> \"각 데이터와 센트로이드 사이의 평균 제곱 거리로 도출한 모델의 이너셔(inertia)\" 이니셔는 값이 작을수록 군집화가 잘된것이다."
      ],
      "metadata": {
        "id": "nybQtFHBVSr0"
      },
      "execution_count": null,
      "outputs": []
    },
    {
      "cell_type": "code",
      "source": [
        "sse = []\n",
        "for i in range(1,15):\n",
        "    km = KMeans(n_clusters=i,init='k-means++', random_state=0)\n",
        "    km.fit(vector1,vector2)\n",
        "    sse.append(km.inertia_)"
      ],
      "metadata": {
        "id": "l0vI4vNjVcEC"
      },
      "execution_count": null,
      "outputs": []
    },
    {
      "cell_type": "code",
      "source": [
        "elbow_list = []\n",
        "for i in range(0,len(sse)-1):\n",
        "  elbow_list.append(sse[i]-sse[i+1])\n",
        "elbow_list2 = []\n",
        "for i in range(0,len(elbow_list)-1):\n",
        "  elbow_list2.append(elbow_list[i]/elbow_list[i+1])"
      ],
      "metadata": {
        "id": "vpxkrTjTVgBm"
      },
      "execution_count": null,
      "outputs": []
    },
    {
      "cell_type": "code",
      "source": [
        "#vector3으로 확인해봐도(이니셔그래프) 클러스터가 3개일때 가장 낮은 이너셔(inertia_)를 보인다.->최적의 군집화 개수 (리스트는 2개,3개,4개~순서임)\n",
        "print(elbow_list2)"
      ],
      "metadata": {
        "id": "JdpFIdPWVkQl",
        "colab": {
          "base_uri": "https://localhost:8080/"
        },
        "outputId": "12fd3654-9849-47f5-a544-3cb775252429"
      },
      "execution_count": null,
      "outputs": [
        {
          "output_type": "execute_result",
          "data": {
            "text/plain": [
              "[2.254793728048432,\n",
              " 1.2229187394176984,\n",
              " 0.8991835613725898,\n",
              " 1.268113858294497,\n",
              " 1.095638908610151,\n",
              " 0.8783024283065128,\n",
              " 1.1691368453161397,\n",
              " 1.0540531062633751,\n",
              " 1.1618095949385912,\n",
              " 1.4775550016117391,\n",
              " 0.5780707332087421,\n",
              " 1.512075631243898]"
            ]
          },
          "metadata": {},
          "execution_count": 21
        }
      ]
    },
    {
      "cell_type": "code",
      "source": [
        "#elbow_list2의 인덱스를 통해 최적의 k값(best_k) 추출  ->elbow_list2의 값이 가장 클 때의 k값 (꺾임정도가 가장 큰 경우)\n",
        "best_k = elbow_list2.index(np.max(elbow_list2))+2\n",
        "print(best_k)"
      ],
      "metadata": {
        "id": "_xxDsHbDVnoL",
        "colab": {
          "base_uri": "https://localhost:8080/"
        },
        "outputId": "a8036281-5f58-40a1-c480-f91ad557f309"
      },
      "execution_count": null,
      "outputs": [
        {
          "output_type": "stream",
          "name": "stdout",
          "text": [
            "2\n"
          ]
        }
      ]
    },
    {
      "cell_type": "code",
      "source": [
        "init_centroid = 'k-means++'\n",
        "km = KMeans(n_clusters=13, max_iter=50000,init=init_centroid,random_state=0)\n",
        "cluster_label = km.fit_predict(vector1,vector2)"
      ],
      "metadata": {
        "id": "BpNHo7ykQA4s"
      },
      "execution_count": null,
      "outputs": []
    },
    {
      "cell_type": "code",
      "source": [
        "init_centroid = 'k-means++'\n",
        "km2 = KMeans(n_clusters=12, max_iter=50000,init=init_centroid,random_state=0)\n",
        "cluster_label2 = km2.fit_predict(vector1,vector2)"
      ],
      "metadata": {
        "id": "8waBLR3_d5WA"
      },
      "execution_count": null,
      "outputs": []
    },
    {
      "cell_type": "code",
      "source": [
        "init_centroid = 'k-means++'\n",
        "km = KMeans(n_clusters=best_k, max_iter=50000,init=init_centroid,random_state=0)\n",
        "cluster_label = km.fit_predict(vector1,vector2)"
      ],
      "metadata": {
        "id": "zmA7F-jkQFDz"
      },
      "execution_count": null,
      "outputs": []
    },
    {
      "cell_type": "code",
      "source": [
        "#각 클러스터별 군집화된 공고수\n",
        "number0 = []\n",
        "for i in cluster_label:\n",
        "    if i == 0:\n",
        "        number0.append(3)\n",
        "print(len(number0))\n",
        "number1 = []\n",
        "for i in cluster_label:\n",
        "    if i == 1:\n",
        "        number1.append(3)\n",
        "print(len(number1))\n",
        "number2 = []\n",
        "for i in cluster_label:\n",
        "    if i == 2:\n",
        "        number2.append(3)\n",
        "print(len(number2))\n",
        "number3 = []\n",
        "for i in cluster_label:\n",
        "    if i == 3:\n",
        "        number3.append(3)\n",
        "print(len(number3))\n",
        "number4 = []\n",
        "for i in cluster_label:\n",
        "    if i == 4:\n",
        "        number4.append(3)\n",
        "print(len(number4))\n",
        "number7 = []\n",
        "for i in cluster_label:\n",
        "    if i == 7:\n",
        "        number7.append(3)\n",
        "print(len(number7))\n",
        "number8 = []\n",
        "for i in cluster_label:\n",
        "    if i == 8:\n",
        "        number8.append(3)\n",
        "print(len(number8))"
      ],
      "metadata": {
        "id": "Pf3-NxRLVvZQ",
        "colab": {
          "base_uri": "https://localhost:8080/"
        },
        "outputId": "8f5f08c5-ee1a-40b8-dba3-652815f06d80"
      },
      "execution_count": null,
      "outputs": [
        {
          "output_type": "stream",
          "name": "stdout",
          "text": [
            "4777\n",
            "623\n",
            "2163\n",
            "240\n",
            "1479\n",
            "920\n",
            "369\n"
          ]
        }
      ]
    },
    {
      "cell_type": "code",
      "source": [
        "#각 클러스터별 군집화된 공고수\n",
        "number0 = []\n",
        "for i in cluster_label2:\n",
        "    if i == 0:\n",
        "        number0.append(3)\n",
        "print(len(number0))\n",
        "number1 = []\n",
        "for i in cluster_label2:\n",
        "    if i == 1:\n",
        "        number1.append(3)\n",
        "print(len(number1))\n",
        "number2 = []\n",
        "for i in cluster_label2:\n",
        "    if i == 2:\n",
        "        number2.append(3)\n",
        "print(len(number2))\n",
        "number3 = []\n",
        "for i in cluster_label2:\n",
        "    if i == 3:\n",
        "        number3.append(3)\n",
        "print(len(number3))\n",
        "number4 = []\n",
        "for i in cluster_label2:\n",
        "    if i == 4:\n",
        "        number4.append(3)\n",
        "print(len(number4))\n",
        "number5 = []\n",
        "for i in cluster_label2:\n",
        "    if i == 5:\n",
        "        number5.append(3)\n",
        "print(len(number5))\n",
        "number6 = []\n",
        "for i in cluster_label2:\n",
        "    if i == 6:\n",
        "        number6.append(3)\n",
        "print(len(number6))"
      ],
      "metadata": {
        "colab": {
          "base_uri": "https://localhost:8080/",
          "height": 245
        },
        "id": "qDKOpIj-eBW9",
        "outputId": "1bd5fc5a-24e2-41bb-b985-4ebd1891ae4b"
      },
      "execution_count": null,
      "outputs": [
        {
          "output_type": "error",
          "ename": "NameError",
          "evalue": "ignored",
          "traceback": [
            "\u001b[0;31m---------------------------------------------------------------------------\u001b[0m",
            "\u001b[0;31mNameError\u001b[0m                                 Traceback (most recent call last)",
            "\u001b[0;32m<ipython-input-25-7369705c6f92>\u001b[0m in \u001b[0;36m<module>\u001b[0;34m()\u001b[0m\n\u001b[1;32m      1\u001b[0m \u001b[0;31m#각 클러스터별 군집화된 공고수\u001b[0m\u001b[0;34m\u001b[0m\u001b[0;34m\u001b[0m\u001b[0;34m\u001b[0m\u001b[0m\n\u001b[1;32m      2\u001b[0m \u001b[0mnumber0\u001b[0m \u001b[0;34m=\u001b[0m \u001b[0;34m[\u001b[0m\u001b[0;34m]\u001b[0m\u001b[0;34m\u001b[0m\u001b[0;34m\u001b[0m\u001b[0m\n\u001b[0;32m----> 3\u001b[0;31m \u001b[0;32mfor\u001b[0m \u001b[0mi\u001b[0m \u001b[0;32min\u001b[0m \u001b[0mcluster_label2\u001b[0m\u001b[0;34m:\u001b[0m\u001b[0;34m\u001b[0m\u001b[0;34m\u001b[0m\u001b[0m\n\u001b[0m\u001b[1;32m      4\u001b[0m     \u001b[0;32mif\u001b[0m \u001b[0mi\u001b[0m \u001b[0;34m==\u001b[0m \u001b[0;36m0\u001b[0m\u001b[0;34m:\u001b[0m\u001b[0;34m\u001b[0m\u001b[0;34m\u001b[0m\u001b[0m\n\u001b[1;32m      5\u001b[0m         \u001b[0mnumber0\u001b[0m\u001b[0;34m.\u001b[0m\u001b[0mappend\u001b[0m\u001b[0;34m(\u001b[0m\u001b[0;36m3\u001b[0m\u001b[0;34m)\u001b[0m\u001b[0;34m\u001b[0m\u001b[0;34m\u001b[0m\u001b[0m\n",
            "\u001b[0;31mNameError\u001b[0m: name 'cluster_label2' is not defined"
          ]
        }
      ]
    },
    {
      "cell_type": "code",
      "source": [
        "#군집화가 잘 이루어지면 컬럼 추가\n",
        "data3['cluster_label'] = cluster_label"
      ],
      "metadata": {
        "id": "EQxhuTdlVzxL"
      },
      "execution_count": null,
      "outputs": []
    },
    {
      "cell_type": "code",
      "source": [
        "cluster_10_words = []\n",
        "def get_cluster_details(cluster_model, cluster_data, feature_names,\n",
        "                       cluster_num, top_n_features=10):\n",
        "    cluster_details = {}\n",
        "    # 각 클러스터 레이블별 feature들의 center값들 내림차순으로 정렬 후의 인덱스를 반환\n",
        "    center_feature_idx = cluster_model.cluster_centers_.argsort()[:,::-1]\n",
        "    # 개별 클러스터 레이블별로 \n",
        "    for cluster_num in range(cluster_num):\n",
        "        # 개별 클러스터별 정보를 담을 empty dict할당\n",
        "        cluster_details[cluster_num] = {}\n",
        "        cluster_details[cluster_num]['cluster'] = cluster_num\n",
        "        \n",
        "        # 각 feature별 center값들 정렬한 인덱스 중 상위 10개만 추출\n",
        "        top_ftr_idx = center_feature_idx[cluster_num, :top_n_features]\n",
        "        top_ftr = [feature_names[idx] for idx in top_ftr_idx]\n",
        "        # top_ftr_idx를 활용해서 상위 10개 feature들의 center값들 반환\n",
        "        # 반환하게 되면 array이기 떄문에 리스트로바꾸기\n",
        "        top_ftr_val = cluster_model.cluster_centers_[cluster_num, top_ftr_idx].tolist()\n",
        "        \n",
        "        # cluster_details 딕셔너리에다가 개별 군집 정보 넣어주기\n",
        "        cluster_details[cluster_num]['top_features'] = top_ftr\n",
        "        cluster_details[cluster_num]['top_featrues_value'] = top_ftr_val\n",
        "        # 해당 cluster_num으로 분류된 파일명(문서들) 넣어주기\n",
        "        filenames = data3[data3['cluster_label']==cluster_num]['공고명']\n",
        "        # filenames가 df으로 반환되기 떄문에 값들만 출력해서 array->list로 변환\n",
        "        filenames = filenames.values.tolist()\n",
        "        cluster_details[cluster_num]['filenames'] = filenames\n",
        "    return cluster_details\n",
        "def print_cluster_details(cluster_details):\n",
        "    for cluster_num, cluster_detail in cluster_details.items():\n",
        "        print(f\"#####Cluster Num: {cluster_num}\")\n",
        "        print()\n",
        "        print(\"상위 10개 feature단어들:\\n\", cluster_detail['top_features'])\n",
        "        cluster_10_words.append(cluster_detail['top_features'])\n",
        "        print()\n",
        "        print(f\"Cluster {cluster_num}으로 분류된 문서들:\\n{cluster_detail['filenames'][:5]}\")\n",
        "        print('-'*20)"
      ],
      "metadata": {
        "id": "1GKDclqXV7IT"
      },
      "execution_count": null,
      "outputs": []
    },
    {
      "cell_type": "code",
      "source": [
        "#핵심단어 출력\n",
        "feature_names = tfidf_vectorizer.get_feature_names()\n",
        "eature_names = tfidf_vectorizer.get_feature_names()\n",
        "cluster_details = get_cluster_details(cluster_model=km,\n",
        "                                     cluster_data=data3,\n",
        "                                     feature_names=feature_names,\n",
        "                                     cluster_num=13,\n",
        "                                     top_n_features=10)\n",
        "print_cluster_details(cluster_details)"
      ],
      "metadata": {
        "id": "WGwJxd9JV7Kn",
        "colab": {
          "base_uri": "https://localhost:8080/"
        },
        "outputId": "5e0fe906-f5b8-428f-92eb-17db32c4cbc5"
      },
      "execution_count": null,
      "outputs": [
        {
          "output_type": "stream",
          "name": "stdout",
          "text": [
            "#####Cluster Num: 0\n",
            "\n",
            "상위 10개 feature단어들:\n",
            " ['관리 채용 경영 관리', '유관 학과 졸업', '현재 소속사 경쟁', '최종 현재 희망', '이사 일정 합격자', '고급 인재 주요', '포털사이트 문의 실시간 확인', '납기', '대한 실무', '서비스 프로젝트']\n",
            "\n",
            "Cluster 0으로 분류된 문서들:\n",
            "['외국계 프리미엄 기업 인테리어 PM', '식음매장 인테리어 설계 및 시공(감리) (대기업계열 식품회사)', '인테리어담당(대기업계열 식품회사)', '[대기업 자회사] 전시 공간 기획 PM', '[국내 대기업] 조경 디자이너(플렌테리어) 경력 / 정규직 채용']\n",
            "--------------------\n",
            "#####Cluster Num: 1\n",
            "\n",
            "상위 10개 feature단어들:\n",
            " ['효령로', '결정 현재 최종', '시뮬레이션', '정식 허가 등록 업체 시스템', '전문 아래 역량', '가지 모토로 차별 격조', '관리 채용 경영 관리', '더존 아이 큐브', '전화 이메일 연락 주시 상담', '제공']\n",
            "\n",
            "Cluster 1으로 분류된 문서들:\n",
            "['재무기획 부장급(팀장급)', '경영지원팀장 차(부)장급 경력사원 모집', '경영지원팀 임원-세무감사,외부감사 경력 필수/회계,세무 전반,인사 ,노무경영전반', '대형의류업체 베트남 현지법인 관리총괄 (부장/차장급) 정규직 채용', '경영관리팀 팀장(과장-부장)']\n",
            "--------------------\n",
            "#####Cluster Num: 2\n",
            "\n",
            "상위 10개 feature단어들:\n",
            " ['능력 우수 영어', '모델링 데이터', '서비스 프로젝트', '제안', '사실', '신체 장애자 출시 관계', '이사 일정 합격자', '관리 채용 경영 관리', '세무 자격증 소지', '제어기']\n",
            "\n",
            "Cluster 2으로 분류된 문서들:\n",
            "['[대기업] 전시기획/공간기획 (스페이스/상설)', '분양전략/기획(임원/담당), 주거/호텔리조트 인테리어 디자인, 익스테리어 디자인(환경디자인), 상품개발, 광', '[스페이스마케팅] 대기업 종합광고대행사 스페이스마케팅 채용 안내', '국내1위 공유오피스 공간 R&D 매니저', '용산소재 대형 IMC 광고대행사 CD(크리에이티브 디렉터)']\n",
            "--------------------\n",
            "#####Cluster Num: 3\n",
            "\n",
            "상위 10개 feature단어들:\n",
            " ['예산 관리', '분석 프로젝트 수행', '예상', '예정', '성공 교육', '설계 현장', '관리 채용 경영 관리', '기획 온라인', '회로 개발', '성공 방정식 교육']\n",
            "\n",
            "Cluster 3으로 분류된 문서들:\n",
            "['인사 총무 운영 팀장급(물류센터) - 글로벌기업', '인사 총무 운영 팀장급(물류센터) - 글로벌기업', '[로봇부품 전문기업] 총무', '인사/ 총무 운영팀장급 (물류센터) - 글로벌 기업', '관리지원팀 (법정관리 및 총무) -글로벌 대기업']\n",
            "--------------------\n",
            "#####Cluster Num: 4\n",
            "\n",
            "상위 10개 feature단어들:\n",
            " ['수습 개월 일시', '기획 운영 인사', '간식 무한리필 바리스타 상주 카페테리아', '소개 이메일', '관리 채용 경영 관리', '학위 학사 전공 필요 필수', '관리 공정 프로세스 개선 통한', '운영 마케팅', '지급 지급 요일', '사실']\n",
            "\n",
            "Cluster 4으로 분류된 문서들:\n",
            "['[상장회사] 기구설계 담당자 채용', '물류자동화 기술영업-글로벌 건설장비 업체', '기술부 ( 신입-5년 )-국내 유명 반도체 부품 회사', '긴급) 기계설계, 3D설계 경력자 - 국내 제조사 - 최우대', '긴급) 국내 제조사 - 기계설계, 3D설계 경력자 - 최우대']\n",
            "--------------------\n",
            "#####Cluster Num: 5\n",
            "\n",
            "상위 10개 feature단어들:\n",
            " ['최대 인재', '최대 인재 추천', '관리 실무 필수 작문', '최단 개월 배출 최근 합격자', '관리 신규', '대한 실무', '최대 인재 추천 헤드', '관리 실무 필수 작문 기사', '대한 이해도', '선착순 전화 문의 합격 합격자']\n",
            "\n",
            "Cluster 5으로 분류된 문서들:\n",
            "['굿커리어 IT대기업 플랫폼 UX,UI디자인 팀원,파트장급 구함(굿커리어)', '굿커리어 IT대기업 플랫폼 UX,UI디자인 팀원,파트장급 구함(굿커리어)', '외국계 자동차인포테인먼트 UX,UI디자인 과장,차장급 구함(굿커리어)', '외국계 자동차인포테인먼트 UX,UI디자인 과장,차장급 구함(굿커리어)', '중견기업 반도체장비 인사,채용 과장급 구함(굿커리어)']\n",
            "--------------------\n",
            "#####Cluster Num: 6\n",
            "\n",
            "상위 10개 feature단어들:\n",
            " ['분야 인재', '일거리 걱정 즉시', '일거리 걱정 즉시 착수 진행중', '순위', '관리 채용 경영 관리', '개발 역량', '개발 엔지니어', '업종', '간식 무한리필 바리스타 상주 카페테리아', '제도 연차 조휴 가제']\n",
            "\n",
            "Cluster 6으로 분류된 문서들:\n",
            "['[외국계 수입식품] 총무 담당 (주임~대리급)', '[외국계 수입식품] 총무 담당 (주임~대리급)', '[외국계 수입식품] 총무 담당 (주임~대리급)', '06)총무 담당자 경력 채용 [대형 엔터사]', '06)- 총무 담당자 경력 채용 [대형 엔터사]']\n",
            "--------------------\n",
            "#####Cluster Num: 7\n",
            "\n",
            "상위 10개 feature단어들:\n",
            " ['간식 무한리필 바리스타 상주 카페테리아', '소속 정규직 복리', '업종', '간식 문화', '개발 시스템', '이사 일정 합격자', '기타 허위', '수습 개월 일시', '소속 정규직 복리 후생', '본인 기혼 직계']\n",
            "\n",
            "Cluster 7으로 분류된 문서들:\n",
            "['KNIT(니트) R&D실 실장급 - 의류 대기업', '국내 대기업 인사기획 과차장급', '[컨텐츠 기획 및 개발] HRD 컨텐츠 기획 및 개발 채용', '06. HRD 담당 [ 대기업]', '국내 석유류 종합물류기지 회사 인사총무 주임급 (3년 이상)']\n",
            "--------------------\n",
            "#####Cluster Num: 8\n",
            "\n",
            "상위 10개 feature단어들:\n",
            " ['최단 개월 배출 최근 합격자', '관리 신규', '관리 영어 글로벌 채용', '빌딩', '최대한 구체 상세 기술 사진', '관리 영업', '대한 이해 바탕', '대한 이해 개발', '대한 실무', '대한 이해 사용']\n",
            "\n",
            "Cluster 8으로 분류된 문서들:\n",
            "['주방 가구 / 리모델링 디자인 설계팀장', '외식프랜차이즈기업 인테리어(VMD) 과장급 구함(굿커리어)', '시공팀 (명품 브랜드 매장: 대리/과장/차장 각 1명)', '기구설계 (루프박스, 루프탑텐트, 가로바 개발자)', '이차전지 제조설비설계부문 채용']\n",
            "--------------------\n",
            "#####Cluster Num: 9\n",
            "\n",
            "상위 10개 feature단어들:\n",
            " ['작성 최종', '중상 학사 해외', '카톡 채널', '분야 설계', '관리 채용 경영 관리', '최종 현재 희망', '능력 우수 영어', '이사 일정 합격자', '필요 전문성', '장점 성과 협업 다른']\n",
            "\n",
            "Cluster 9으로 분류된 문서들:\n",
            "['인사기획 ( 대리~과장급 )-국내 유명 외식대기업', '인사(HRM) 경력사원 모집', '인사기획-최고의 중견 그룹사', '대기업 그룹 전사 교육기획(HRD)및 조직문화 변화관리 담당자 대리-과장급', '글로벌 HR ( 과장~부장급 )-국내 유명 식품전문기업']\n",
            "--------------------\n",
            "#####Cluster Num: 10\n",
            "\n",
            "상위 10개 feature단어들:\n",
            " ['성남', '공공기관 사무', '시스템 대부분 헤드헌터 홈페이지', '시스템 대한 이해도', '공공기관 사무 보조', '고급 인재 주요', '품질 개선', '인터뷰 기업', '인터뷰 기업 국문', '자리 오픈']\n",
            "\n",
            "Cluster 10으로 분류된 문서들:\n",
            "['[유망스타트업] Tech 리드(CTO) 채용', '함께할 헤드헌터 모십니다', '[전주] LG유플러스 고객센터 CS상담원', '[트랜스] GS파크24 무인주차장 고객센터 상담원', '[트랜스] 버버리 고객센터 CS상담원']\n",
            "--------------------\n",
            "#####Cluster Num: 11\n",
            "\n",
            "상위 10개 feature단어들:\n",
            " ['마인드 커뮤니케이션', '상세 국문 문의', '기업 반도체', '능력 우수 영어', '상경 계열', '상경 계열 전공', '기업 국문', '채널 대한', '채널 관리', '상경']\n",
            "\n",
            "Cluster 11으로 분류된 문서들:\n",
            "['매장 인테리어디자인 대리급.. 유통대기업', '백화점 Store Design(인테리어) 대리-팀장급(경력협의) 급초빙', '단체식 대기업 인테리어 디자이너 과차장급 채용(베트남 근무)', '인테리어디자인 경력 정규직 채용', '대구소재 중견건설 인테리어 주거상품개발 대리~차장']\n",
            "--------------------\n",
            "#####Cluster Num: 12\n",
            "\n",
            "상위 10개 feature단어들:\n",
            " ['대한 실무', '선착순 전화 문의 합격 합격자', '대한 이해 개발', '관리 신규', '선택 복리', '차용', '선택 복리 후생', '선행 기술', '차장 과장 대리', '선호 공인']\n",
            "\n",
            "Cluster 12으로 분류된 문서들:\n",
            "['[테마파크] 인테리어 디자인 3-15 년 경력자', '[테마파크] 테마파크 디자인 3-15 년 경력자', '프랜차이즈기업 인테리어(VMD) 디자이너 대리급 구함(굿커리어)', '건설중견기업 건축설계 대리급 구함(굿커리어)', '건설중견기업 아파트,공동주택 외부특화 디자인,설계 대리급 구함(굿커리어)']\n",
            "--------------------\n"
          ]
        },
        {
          "output_type": "stream",
          "name": "stderr",
          "text": [
            "/usr/local/lib/python3.7/dist-packages/sklearn/utils/deprecation.py:87: FutureWarning: Function get_feature_names is deprecated; get_feature_names is deprecated in 1.0 and will be removed in 1.2. Please use get_feature_names_out instead.\n",
            "  warnings.warn(msg, category=FutureWarning)\n"
          ]
        }
      ]
    },
    {
      "cell_type": "code",
      "source": [
        "#핵심단어 출력\n",
        "feature_names = tfidf_vectorizer.get_feature_names()\n",
        "eature_names = tfidf_vectorizer.get_feature_names()\n",
        "cluster_details = get_cluster_details(cluster_model=km,\n",
        "                                     cluster_data=data3,\n",
        "                                     feature_names=feature_names,\n",
        "                                     cluster_num=best_k,\n",
        "                                     top_n_features=10)\n",
        "print_cluster_details(cluster_details)"
      ],
      "metadata": {
        "id": "QB9-DW20fh0i"
      },
      "execution_count": null,
      "outputs": []
    },
    {
      "cell_type": "code",
      "source": [
        "cluster_10_words[1]"
      ],
      "metadata": {
        "id": "k8e88IKYV7NH",
        "colab": {
          "base_uri": "https://localhost:8080/"
        },
        "outputId": "d396cba8-00dd-4277-9715-c1881dcced0a"
      },
      "execution_count": null,
      "outputs": [
        {
          "output_type": "execute_result",
          "data": {
            "text/plain": [
              "['효령로',\n",
              " '결정 현재 최종',\n",
              " '시뮬레이션',\n",
              " '정식 허가 등록 업체 시스템',\n",
              " '전문 아래 역량',\n",
              " '가지 모토로 차별 격조',\n",
              " '관리 채용 경영 관리',\n",
              " '더존 아이 큐브',\n",
              " '전화 이메일 연락 주시 상담',\n",
              " '제공']"
            ]
          },
          "metadata": {},
          "execution_count": 30
        }
      ]
    },
    {
      "cell_type": "markdown",
      "source": [
        "#분류분석 시작 - 학습용 데이터셋 준비"
      ],
      "metadata": {
        "id": "ISYRZjhvWLJE"
      }
    },
    {
      "cell_type": "code",
      "source": [
        "#full_noun을 통한 단어 벡터화 실시\n",
        "reviews = list(data3['full_noun'])\n",
        "sentences = []\n",
        "for review in reviews:\n",
        "    sentences.append(review)"
      ],
      "metadata": {
        "id": "_aAQMlyVV7PX"
      },
      "execution_count": null,
      "outputs": []
    },
    {
      "cell_type": "code",
      "source": [
        "#기본 파라미터 설정\n",
        "num_features = 300 #X.shape와 맞춰준다   \n",
        "min_word_count = 40   \n",
        "num_workers = 4       \n",
        "context = 10          \n",
        "downsampling = 1e-3 "
      ],
      "metadata": {
        "id": "LoRdLVBoWHBh"
      },
      "execution_count": null,
      "outputs": []
    },
    {
      "cell_type": "code",
      "source": [
        "#gensim의 word2vec으로 sentences에 담겨있는 각 문서를 벡터화 (work와 quali가 합쳐진 full_noun)\n",
        "import logging\n",
        "logging.basicConfig(format='%(asctime)s : %(levelname)s : %(message)s',\\\n",
        "   level=logging.INFO)\n",
        "   \n",
        "from gensim.models import word2vec\n",
        "\n",
        "model = word2vec.Word2Vec(sentences, workers=num_workers, \\\n",
        "           size=num_features, min_count = min_word_count, \\\n",
        "            window = context, sample = downsampling)"
      ],
      "metadata": {
        "id": "5nfIMsdFWHDz",
        "colab": {
          "base_uri": "https://localhost:8080/"
        },
        "outputId": "da2f9bc6-f932-4374-d181-3dec57002fe7"
      },
      "execution_count": null,
      "outputs": [
        {
          "output_type": "stream",
          "name": "stderr",
          "text": [
            "2022-06-26 13:59:41,406 : INFO : 'pattern' package not found; tag filters are not available for English\n",
            "2022-06-26 13:59:41,416 : INFO : collecting all words and their counts\n",
            "2022-06-26 13:59:41,417 : INFO : PROGRESS: at sentence #0, processed 0 words, keeping 0 word types\n",
            "2022-06-26 13:59:41,516 : INFO : PROGRESS: at sentence #10000, processed 558181 words, keeping 7942 word types\n",
            "2022-06-26 13:59:41,545 : INFO : collected 8788 word types from a corpus of 711441 raw words and 12637 sentences\n",
            "2022-06-26 13:59:41,546 : INFO : Loading a fresh vocabulary\n",
            "2022-06-26 13:59:41,555 : INFO : effective_min_count=40 retains 1774 unique words (20% of original 8788, drops 7014)\n",
            "2022-06-26 13:59:41,559 : INFO : effective_min_count=40 leaves 657575 word corpus (92% of original 711441, drops 53866)\n",
            "2022-06-26 13:59:41,567 : INFO : deleting the raw counts dictionary of 8788 items\n",
            "2022-06-26 13:59:41,569 : INFO : sample=0.001 downsamples 72 most-common words\n",
            "2022-06-26 13:59:41,572 : INFO : downsampling leaves estimated 560571 word corpus (85.2% of prior 657575)\n",
            "2022-06-26 13:59:41,583 : INFO : estimated required memory for 1774 words and 300 dimensions: 5144600 bytes\n",
            "2022-06-26 13:59:41,585 : INFO : resetting layer weights\n",
            "2022-06-26 13:59:41,941 : INFO : training model with 4 workers on 1774 vocabulary and 300 features, using sg=0 hs=0 sample=0.001 negative=5 window=10\n",
            "2022-06-26 13:59:42,949 : INFO : EPOCH 1 - PROGRESS: at 79.12% examples, 439071 words/s, in_qsize 8, out_qsize 0\n",
            "2022-06-26 13:59:43,176 : INFO : worker thread finished; awaiting finish of 3 more threads\n",
            "2022-06-26 13:59:43,183 : INFO : worker thread finished; awaiting finish of 2 more threads\n",
            "2022-06-26 13:59:43,186 : INFO : worker thread finished; awaiting finish of 1 more threads\n",
            "2022-06-26 13:59:43,194 : INFO : worker thread finished; awaiting finish of 0 more threads\n",
            "2022-06-26 13:59:43,196 : INFO : EPOCH - 1 : training on 711441 raw words (560508 effective words) took 1.2s, 449338 effective words/s\n",
            "2022-06-26 13:59:44,208 : INFO : EPOCH 2 - PROGRESS: at 78.10% examples, 429480 words/s, in_qsize 7, out_qsize 0\n",
            "2022-06-26 13:59:44,422 : INFO : worker thread finished; awaiting finish of 3 more threads\n",
            "2022-06-26 13:59:44,442 : INFO : worker thread finished; awaiting finish of 2 more threads\n",
            "2022-06-26 13:59:44,447 : INFO : worker thread finished; awaiting finish of 1 more threads\n",
            "2022-06-26 13:59:44,451 : INFO : worker thread finished; awaiting finish of 0 more threads\n",
            "2022-06-26 13:59:44,454 : INFO : EPOCH - 2 : training on 711441 raw words (560538 effective words) took 1.2s, 448480 effective words/s\n",
            "2022-06-26 13:59:45,483 : INFO : EPOCH 3 - PROGRESS: at 82.73% examples, 452489 words/s, in_qsize 7, out_qsize 0\n",
            "2022-06-26 13:59:45,637 : INFO : worker thread finished; awaiting finish of 3 more threads\n",
            "2022-06-26 13:59:45,654 : INFO : worker thread finished; awaiting finish of 2 more threads\n",
            "2022-06-26 13:59:45,658 : INFO : worker thread finished; awaiting finish of 1 more threads\n",
            "2022-06-26 13:59:45,662 : INFO : worker thread finished; awaiting finish of 0 more threads\n",
            "2022-06-26 13:59:45,663 : INFO : EPOCH - 3 : training on 711441 raw words (560500 effective words) took 1.2s, 466193 effective words/s\n",
            "2022-06-26 13:59:46,674 : INFO : EPOCH 4 - PROGRESS: at 81.51% examples, 453999 words/s, in_qsize 7, out_qsize 0\n",
            "2022-06-26 13:59:46,894 : INFO : worker thread finished; awaiting finish of 3 more threads\n",
            "2022-06-26 13:59:46,902 : INFO : worker thread finished; awaiting finish of 2 more threads\n",
            "2022-06-26 13:59:46,903 : INFO : worker thread finished; awaiting finish of 1 more threads\n",
            "2022-06-26 13:59:46,915 : INFO : worker thread finished; awaiting finish of 0 more threads\n",
            "2022-06-26 13:59:46,916 : INFO : EPOCH - 4 : training on 711441 raw words (560719 effective words) took 1.2s, 450437 effective words/s\n",
            "2022-06-26 13:59:47,939 : INFO : EPOCH 5 - PROGRESS: at 46.87% examples, 251267 words/s, in_qsize 7, out_qsize 0\n",
            "2022-06-26 13:59:48,944 : INFO : EPOCH 5 - PROGRESS: at 90.75% examples, 252852 words/s, in_qsize 7, out_qsize 0\n",
            "2022-06-26 13:59:49,065 : INFO : worker thread finished; awaiting finish of 3 more threads\n",
            "2022-06-26 13:59:49,096 : INFO : worker thread finished; awaiting finish of 2 more threads\n",
            "2022-06-26 13:59:49,101 : INFO : worker thread finished; awaiting finish of 1 more threads\n",
            "2022-06-26 13:59:49,118 : INFO : worker thread finished; awaiting finish of 0 more threads\n",
            "2022-06-26 13:59:49,123 : INFO : EPOCH - 5 : training on 711441 raw words (560880 effective words) took 2.2s, 255482 effective words/s\n",
            "2022-06-26 13:59:49,124 : INFO : training on a 3557205 raw words (2803145 effective words) took 7.2s, 390328 effective words/s\n"
          ]
        }
      ]
    },
    {
      "cell_type": "code",
      "source": [
        "# 모델 저장, word2vec.load()를 사용해서 추후에 다시 사용할 수 있다.\n",
        "model_name = \"w2v_300features_alljobs\"\n",
        "model.save(model_name)"
      ],
      "metadata": {
        "id": "86kISrGMWHGB",
        "colab": {
          "base_uri": "https://localhost:8080/"
        },
        "outputId": "2c41b05e-c102-4de4-d80a-64bbcec3fc69"
      },
      "execution_count": null,
      "outputs": [
        {
          "output_type": "stream",
          "name": "stderr",
          "text": [
            "2022-06-26 12:30:37,752 : INFO : saving Word2Vec object under w2v_300features_alljobs, separately None\n",
            "2022-06-26 12:30:37,756 : INFO : not storing attribute vectors_norm\n",
            "2022-06-26 12:30:37,758 : INFO : not storing attribute cum_table\n",
            "2022-06-26 12:30:37,800 : INFO : saved w2v_300features_alljobs\n"
          ]
        }
      ]
    },
    {
      "cell_type": "code",
      "source": [
        "#하나의 리뷰에 대해 전체 단어의 평균값을 계산하는 함수\n",
        "def get_features(words, model, num_features):\n",
        "    feature_vector = np.zeros((num_features),dtype=np.float32)\n",
        "\n",
        "    num_words = 0\n",
        "    index2word_set = set(model.wv.index2word)\n",
        "\n",
        "    for w in words:\n",
        "        if w in index2word_set:\n",
        "            num_words += 1\n",
        "            feature_vector = np.add(feature_vector, model[w])\n",
        "\n",
        "    feature_vector = np.divide(feature_vector, num_words)\n",
        "    return feature_vector"
      ],
      "metadata": {
        "id": "yMMR7plNWHIZ"
      },
      "execution_count": null,
      "outputs": []
    },
    {
      "cell_type": "code",
      "source": [
        "#위의 함수를 이용해서 전체 리뷰에 대한 평균값을 계산하는 함수를 만들고, 실행\n",
        "def get_dataset(reviews, model, num_features):\n",
        "    dataset = list()\n",
        "\n",
        "    for s in reviews:\n",
        "        dataset.append(get_features(s, model, num_features))\n",
        "\n",
        "    reviewFeatureVecs = np.stack(dataset)\n",
        "    \n",
        "    return reviewFeatureVecs"
      ],
      "metadata": {
        "id": "EuSntT4Ga_UZ"
      },
      "execution_count": null,
      "outputs": []
    },
    {
      "cell_type": "code",
      "source": [
        "#함수를 통해 학습 데이터셋 생성\n",
        "test_data_vecs = get_dataset(sentences, model,300)\n",
        "test_data_vecs.shape"
      ],
      "metadata": {
        "id": "i3q_qHQUi_hv",
        "colab": {
          "base_uri": "https://localhost:8080/"
        },
        "outputId": "103e583c-bd2d-4d6e-a8b9-7e70e01c854b"
      },
      "execution_count": null,
      "outputs": [
        {
          "output_type": "stream",
          "name": "stderr",
          "text": [
            "/usr/local/lib/python3.7/dist-packages/ipykernel_launcher.py:11: DeprecationWarning: Call to deprecated `__getitem__` (Method will be removed in 4.0.0, use self.wv.__getitem__() instead).\n",
            "  # This is added back by InteractiveShellApp.init_path()\n",
            "/usr/local/lib/python3.7/dist-packages/ipykernel_launcher.py:13: RuntimeWarning: invalid value encountered in true_divide\n",
            "  del sys.path[0]\n"
          ]
        },
        {
          "output_type": "execute_result",
          "data": {
            "text/plain": [
              "(12637, 300)"
            ]
          },
          "metadata": {},
          "execution_count": 25
        }
      ]
    },
    {
      "cell_type": "code",
      "source": [
        "# 출력변수 y 할당\n",
        "X = test_data_vecs\n",
        "y = data3.loc[:, 'cluster_label']\n",
        "print(y.head())\n",
        "print('X.shape:', X.shape, 'y.shape:', y.shape)"
      ],
      "metadata": {
        "id": "FG2-1I8nWHKS",
        "colab": {
          "base_uri": "https://localhost:8080/"
        },
        "outputId": "745721d5-2f91-4cc5-e227-3bcfa4db6d9d"
      },
      "execution_count": null,
      "outputs": [
        {
          "output_type": "stream",
          "name": "stdout",
          "text": [
            "0     0\n",
            "1    11\n",
            "2     0\n",
            "3     0\n",
            "4     4\n",
            "Name: cluster_label, dtype: int32\n",
            "X.shape: (12637, 300) y.shape: (12637,)\n"
          ]
        }
      ]
    },
    {
      "cell_type": "code",
      "source": [
        "#필요모델 임포트\n",
        "from sklearn.model_selection import train_test_split\n",
        "from sklearn.metrics import confusion_matrix, accuracy_score, precision_score, recall_score\n",
        "from sklearn.metrics import confusion_matrix, f1_score, roc_auc_score"
      ],
      "metadata": {
        "id": "ejeWUX60a_Xm"
      },
      "execution_count": null,
      "outputs": []
    },
    {
      "cell_type": "code",
      "source": [
        "print(X.shape)\n",
        "test_data_vecs = get_dataset(sentences, model,300)\n",
        "print(test_data_vecs.shape)"
      ],
      "metadata": {
        "id": "XozCSgUka_aJ",
        "colab": {
          "base_uri": "https://localhost:8080/"
        },
        "outputId": "59ca3848-5e49-4b67-a2f0-59ea40530d30"
      },
      "execution_count": null,
      "outputs": [
        {
          "output_type": "stream",
          "name": "stdout",
          "text": [
            "(12637, 300)\n"
          ]
        },
        {
          "output_type": "stream",
          "name": "stderr",
          "text": [
            "/usr/local/lib/python3.7/dist-packages/ipykernel_launcher.py:11: DeprecationWarning: Call to deprecated `__getitem__` (Method will be removed in 4.0.0, use self.wv.__getitem__() instead).\n",
            "  # This is added back by InteractiveShellApp.init_path()\n",
            "/usr/local/lib/python3.7/dist-packages/ipykernel_launcher.py:13: RuntimeWarning: invalid value encountered in true_divide\n",
            "  del sys.path[0]\n"
          ]
        },
        {
          "output_type": "stream",
          "name": "stdout",
          "text": [
            "(12637, 300)\n"
          ]
        }
      ]
    },
    {
      "cell_type": "code",
      "source": [
        "\n",
        "#full_work를 벡터화시켜서(word2vec 활용) 학습데이터로 사용한다. -->full_noun으로 변경\n",
        "X = test_data_vecs\n",
        "y = np.array(data3['cluster_label'])\n",
        "\n",
        "X_train, X_test, y_train, y_test = train_test_split(X, y, test_size=0.2, random_state=28)\n",
        "\n",
        "from lightgbm import LGBMClassifier\n",
        "\n",
        "lgbm = LGBMClassifier(n_estimators=500)\n",
        "lgbm.fit(X_train, y_train, early_stopping_rounds=100, eval_metric='multiclass', eval_set=[(X_test,y_test)], verbose = True)"
      ],
      "metadata": {
        "id": "TmHR71P0a_ck",
        "colab": {
          "base_uri": "https://localhost:8080/"
        },
        "outputId": "2d79d406-cf48-479d-b1e9-e828cc6f451c"
      },
      "execution_count": null,
      "outputs": [
        {
          "output_type": "stream",
          "name": "stdout",
          "text": [
            "[1]\tvalid_0's multi_logloss: 1.65579\n",
            "Training until validation scores don't improve for 100 rounds.\n",
            "[2]\tvalid_0's multi_logloss: 1.5088\n",
            "[3]\tvalid_0's multi_logloss: 1.39737\n",
            "[4]\tvalid_0's multi_logloss: 1.30626\n",
            "[5]\tvalid_0's multi_logloss: 1.22986\n",
            "[6]\tvalid_0's multi_logloss: 1.1652\n",
            "[7]\tvalid_0's multi_logloss: 1.10664\n",
            "[8]\tvalid_0's multi_logloss: 1.05442\n",
            "[9]\tvalid_0's multi_logloss: 1.00763\n",
            "[10]\tvalid_0's multi_logloss: 0.965278\n",
            "[11]\tvalid_0's multi_logloss: 0.926735\n",
            "[12]\tvalid_0's multi_logloss: 0.891179\n",
            "[13]\tvalid_0's multi_logloss: 0.860514\n",
            "[14]\tvalid_0's multi_logloss: 0.832636\n",
            "[15]\tvalid_0's multi_logloss: 0.806872\n",
            "[16]\tvalid_0's multi_logloss: 0.781948\n",
            "[17]\tvalid_0's multi_logloss: 0.760669\n",
            "[18]\tvalid_0's multi_logloss: 0.740097\n",
            "[19]\tvalid_0's multi_logloss: 0.721286\n",
            "[20]\tvalid_0's multi_logloss: 0.703843\n",
            "[21]\tvalid_0's multi_logloss: 0.687695\n",
            "[22]\tvalid_0's multi_logloss: 0.673167\n",
            "[23]\tvalid_0's multi_logloss: 0.659383\n",
            "[24]\tvalid_0's multi_logloss: 0.646278\n",
            "[25]\tvalid_0's multi_logloss: 0.633727\n",
            "[26]\tvalid_0's multi_logloss: 0.622177\n",
            "[27]\tvalid_0's multi_logloss: 0.611395\n",
            "[28]\tvalid_0's multi_logloss: 0.60203\n",
            "[29]\tvalid_0's multi_logloss: 0.592877\n",
            "[30]\tvalid_0's multi_logloss: 0.584694\n",
            "[31]\tvalid_0's multi_logloss: 0.576595\n",
            "[32]\tvalid_0's multi_logloss: 0.568592\n",
            "[33]\tvalid_0's multi_logloss: 0.561102\n",
            "[34]\tvalid_0's multi_logloss: 0.554399\n",
            "[35]\tvalid_0's multi_logloss: 0.548712\n",
            "[36]\tvalid_0's multi_logloss: 0.542952\n",
            "[37]\tvalid_0's multi_logloss: 0.538046\n",
            "[38]\tvalid_0's multi_logloss: 0.533238\n",
            "[39]\tvalid_0's multi_logloss: 0.528267\n",
            "[40]\tvalid_0's multi_logloss: 0.523622\n",
            "[41]\tvalid_0's multi_logloss: 0.51982\n",
            "[42]\tvalid_0's multi_logloss: 0.516017\n",
            "[43]\tvalid_0's multi_logloss: 0.512238\n",
            "[44]\tvalid_0's multi_logloss: 0.508977\n",
            "[45]\tvalid_0's multi_logloss: 0.506181\n",
            "[46]\tvalid_0's multi_logloss: 0.503197\n",
            "[47]\tvalid_0's multi_logloss: 0.501334\n",
            "[48]\tvalid_0's multi_logloss: 0.49908\n",
            "[49]\tvalid_0's multi_logloss: 0.496899\n",
            "[50]\tvalid_0's multi_logloss: 0.494331\n",
            "[51]\tvalid_0's multi_logloss: 0.492476\n",
            "[52]\tvalid_0's multi_logloss: 0.49078\n",
            "[53]\tvalid_0's multi_logloss: 0.489224\n",
            "[54]\tvalid_0's multi_logloss: 0.487546\n",
            "[55]\tvalid_0's multi_logloss: 0.485685\n",
            "[56]\tvalid_0's multi_logloss: 0.484773\n",
            "[57]\tvalid_0's multi_logloss: 0.484164\n",
            "[58]\tvalid_0's multi_logloss: 0.4828\n",
            "[59]\tvalid_0's multi_logloss: 0.481795\n",
            "[60]\tvalid_0's multi_logloss: 0.480825\n",
            "[61]\tvalid_0's multi_logloss: 0.480345\n",
            "[62]\tvalid_0's multi_logloss: 0.479311\n",
            "[63]\tvalid_0's multi_logloss: 0.478625\n",
            "[64]\tvalid_0's multi_logloss: 0.478278\n",
            "[65]\tvalid_0's multi_logloss: 0.477891\n",
            "[66]\tvalid_0's multi_logloss: 0.477681\n",
            "[67]\tvalid_0's multi_logloss: 0.47752\n",
            "[68]\tvalid_0's multi_logloss: 0.477233\n",
            "[69]\tvalid_0's multi_logloss: 0.477029\n",
            "[70]\tvalid_0's multi_logloss: 0.476505\n",
            "[71]\tvalid_0's multi_logloss: 0.476795\n",
            "[72]\tvalid_0's multi_logloss: 0.476926\n",
            "[73]\tvalid_0's multi_logloss: 0.477432\n",
            "[74]\tvalid_0's multi_logloss: 0.477255\n",
            "[75]\tvalid_0's multi_logloss: 0.477484\n",
            "[76]\tvalid_0's multi_logloss: 0.477766\n",
            "[77]\tvalid_0's multi_logloss: 0.478372\n",
            "[78]\tvalid_0's multi_logloss: 0.478481\n",
            "[79]\tvalid_0's multi_logloss: 0.479137\n",
            "[80]\tvalid_0's multi_logloss: 0.479521\n",
            "[81]\tvalid_0's multi_logloss: 0.479686\n",
            "[82]\tvalid_0's multi_logloss: 0.480156\n",
            "[83]\tvalid_0's multi_logloss: 0.480285\n",
            "[84]\tvalid_0's multi_logloss: 0.480743\n",
            "[85]\tvalid_0's multi_logloss: 0.481008\n",
            "[86]\tvalid_0's multi_logloss: 0.481909\n",
            "[87]\tvalid_0's multi_logloss: 0.48274\n",
            "[88]\tvalid_0's multi_logloss: 0.483367\n",
            "[89]\tvalid_0's multi_logloss: 0.483992\n",
            "[90]\tvalid_0's multi_logloss: 0.484564\n",
            "[91]\tvalid_0's multi_logloss: 0.485712\n",
            "[92]\tvalid_0's multi_logloss: 0.486621\n",
            "[93]\tvalid_0's multi_logloss: 0.487911\n",
            "[94]\tvalid_0's multi_logloss: 0.488338\n",
            "[95]\tvalid_0's multi_logloss: 0.489409\n",
            "[96]\tvalid_0's multi_logloss: 0.489957\n",
            "[97]\tvalid_0's multi_logloss: 0.491124\n",
            "[98]\tvalid_0's multi_logloss: 0.491812\n",
            "[99]\tvalid_0's multi_logloss: 0.492465\n",
            "[100]\tvalid_0's multi_logloss: 0.493112\n",
            "[101]\tvalid_0's multi_logloss: 0.493926\n",
            "[102]\tvalid_0's multi_logloss: 0.494599\n",
            "[103]\tvalid_0's multi_logloss: 0.495949\n",
            "[104]\tvalid_0's multi_logloss: 0.497567\n",
            "[105]\tvalid_0's multi_logloss: 0.498494\n",
            "[106]\tvalid_0's multi_logloss: 0.499574\n",
            "[107]\tvalid_0's multi_logloss: 0.500289\n",
            "[108]\tvalid_0's multi_logloss: 0.501482\n",
            "[109]\tvalid_0's multi_logloss: 0.502753\n",
            "[110]\tvalid_0's multi_logloss: 0.503916\n",
            "[111]\tvalid_0's multi_logloss: 0.505029\n",
            "[112]\tvalid_0's multi_logloss: 0.506406\n",
            "[113]\tvalid_0's multi_logloss: 0.507503\n",
            "[114]\tvalid_0's multi_logloss: 0.508406\n",
            "[115]\tvalid_0's multi_logloss: 0.509222\n",
            "[116]\tvalid_0's multi_logloss: 0.510527\n",
            "[117]\tvalid_0's multi_logloss: 0.511951\n",
            "[118]\tvalid_0's multi_logloss: 0.513534\n",
            "[119]\tvalid_0's multi_logloss: 0.514645\n",
            "[120]\tvalid_0's multi_logloss: 0.516113\n",
            "[121]\tvalid_0's multi_logloss: 0.517255\n",
            "[122]\tvalid_0's multi_logloss: 0.518529\n",
            "[123]\tvalid_0's multi_logloss: 0.519197\n",
            "[124]\tvalid_0's multi_logloss: 0.520206\n",
            "[125]\tvalid_0's multi_logloss: 0.521568\n",
            "[126]\tvalid_0's multi_logloss: 0.522616\n",
            "[127]\tvalid_0's multi_logloss: 0.524093\n",
            "[128]\tvalid_0's multi_logloss: 0.524766\n",
            "[129]\tvalid_0's multi_logloss: 0.525947\n",
            "[130]\tvalid_0's multi_logloss: 0.527352\n",
            "[131]\tvalid_0's multi_logloss: 0.528319\n",
            "[132]\tvalid_0's multi_logloss: 0.52922\n",
            "[133]\tvalid_0's multi_logloss: 0.531029\n",
            "[134]\tvalid_0's multi_logloss: 0.531997\n",
            "[135]\tvalid_0's multi_logloss: 0.533195\n",
            "[136]\tvalid_0's multi_logloss: 0.534676\n",
            "[137]\tvalid_0's multi_logloss: 0.536183\n",
            "[138]\tvalid_0's multi_logloss: 0.537611\n",
            "[139]\tvalid_0's multi_logloss: 0.539238\n",
            "[140]\tvalid_0's multi_logloss: 0.540382\n",
            "[141]\tvalid_0's multi_logloss: 0.542026\n",
            "[142]\tvalid_0's multi_logloss: 0.54371\n",
            "[143]\tvalid_0's multi_logloss: 0.545664\n",
            "[144]\tvalid_0's multi_logloss: 0.546918\n",
            "[145]\tvalid_0's multi_logloss: 0.54747\n",
            "[146]\tvalid_0's multi_logloss: 0.549234\n",
            "[147]\tvalid_0's multi_logloss: 0.551217\n",
            "[148]\tvalid_0's multi_logloss: 0.552689\n",
            "[149]\tvalid_0's multi_logloss: 0.553909\n",
            "[150]\tvalid_0's multi_logloss: 0.555604\n",
            "[151]\tvalid_0's multi_logloss: 0.557089\n",
            "[152]\tvalid_0's multi_logloss: 0.558254\n",
            "[153]\tvalid_0's multi_logloss: 0.559887\n",
            "[154]\tvalid_0's multi_logloss: 0.561331\n",
            "[155]\tvalid_0's multi_logloss: 0.562849\n",
            "[156]\tvalid_0's multi_logloss: 0.563453\n",
            "[157]\tvalid_0's multi_logloss: 0.565011\n",
            "[158]\tvalid_0's multi_logloss: 0.566968\n",
            "[159]\tvalid_0's multi_logloss: 0.568197\n",
            "[160]\tvalid_0's multi_logloss: 0.570369\n",
            "[161]\tvalid_0's multi_logloss: 0.571947\n",
            "[162]\tvalid_0's multi_logloss: 0.573358\n",
            "[163]\tvalid_0's multi_logloss: 0.574962\n",
            "[164]\tvalid_0's multi_logloss: 0.576361\n",
            "[165]\tvalid_0's multi_logloss: 0.577826\n",
            "[166]\tvalid_0's multi_logloss: 0.579378\n",
            "[167]\tvalid_0's multi_logloss: 0.581157\n",
            "[168]\tvalid_0's multi_logloss: 0.582874\n",
            "[169]\tvalid_0's multi_logloss: 0.584311\n",
            "[170]\tvalid_0's multi_logloss: 0.585714\n",
            "Early stopping, best iteration is:\n",
            "[70]\tvalid_0's multi_logloss: 0.476505\n"
          ]
        },
        {
          "output_type": "execute_result",
          "data": {
            "text/plain": [
              "LGBMClassifier(n_estimators=500)"
            ]
          },
          "metadata": {},
          "execution_count": 29
        }
      ]
    },
    {
      "cell_type": "code",
      "source": [
        "#분류모델 정확도 출력\n",
        "def get_clf_eval(y_test, y_pred):\n",
        "    accuracy = accuracy_score(y_test, y_pred)\n",
        "    print('정확도:\\n', accuracy)\n",
        "w_preds = lgbm.predict(X_test)\n",
        "get_clf_eval(y_test, w_preds)"
      ],
      "metadata": {
        "id": "P3r1e6Hta_em",
        "colab": {
          "base_uri": "https://localhost:8080/"
        },
        "outputId": "cc3bd995-f012-4078-f7c1-0ed731197482"
      },
      "execution_count": null,
      "outputs": [
        {
          "output_type": "stream",
          "name": "stdout",
          "text": [
            "정확도:\n",
            " 0.8623417721518988\n"
          ]
        }
      ]
    },
    {
      "cell_type": "code",
      "source": [
        "#분류모델 오차행렬 출력\n",
        "def get_clf_eval(y_test, y_pred):\n",
        "    confusion = confusion_matrix(y_test, y_pred)\n",
        "    print('오차행렬:\\n', confusion)\n",
        "get_clf_eval(y_test, w_preds)"
      ],
      "metadata": {
        "id": "Jow3VMJqa_gv",
        "colab": {
          "base_uri": "https://localhost:8080/"
        },
        "outputId": "66f9273f-99f8-4f52-a76e-eebc77e51596"
      },
      "execution_count": null,
      "outputs": [
        {
          "output_type": "stream",
          "name": "stdout",
          "text": [
            "오차행렬:\n",
            " [[876   8  36   0  18   0   1  17   4   2   0  11   3]\n",
            " [ 15 103   1   0   0   0   0   0   0   0   0   0   0]\n",
            " [ 38   0 372   0   4   0   0   2   0   0   0   0   0]\n",
            " [  4   0   0  37   2   0   0   0   0   0   0   0   0]\n",
            " [ 31   0   2   0 257   0   0   8   0   0   0   0   1]\n",
            " [  2   0   2   0   0  38   0   0   2   0   0   0   5]\n",
            " [ 10   0   1   0   1   0  26   2   0   0   0   0   0]\n",
            " [ 12   0   2   0  20   0   1 136   1   0   0   0   0]\n",
            " [ 15   0   4   0   2   3   0   2  47   2   0   0   8]\n",
            " [  4   0   1   0   0   0   0   0   0 105   0   0   0]\n",
            " [  1   0   1   0   0   0   0   0   0   0  81   0   0]\n",
            " [  3   0   5   0   1   0   0   0   0   0   0  55   0]\n",
            " [ 15   0   5   0   2   2   0   0   3   0   0   0  47]]\n"
          ]
        }
      ]
    },
    {
      "cell_type": "markdown",
      "source": [
        "#단어분류, 중요 키워드 출력"
      ],
      "metadata": {
        "id": "CSiDsWKljyYi"
      }
    },
    {
      "cell_type": "code",
      "source": [
        "keyword_list = [['판매','영업','관리','기획','운영','분석','자동차','관리','판매',]]"
      ],
      "metadata": {
        "id": "i_zfFpQya_i1"
      },
      "execution_count": null,
      "outputs": []
    },
    {
      "cell_type": "code",
      "source": [
        "test_data_vecs2 = get_dataset(keyword_list, model,300)\n",
        "test_data_vecs2.shape"
      ],
      "metadata": {
        "id": "N3hPR0cHa_kv",
        "colab": {
          "base_uri": "https://localhost:8080/"
        },
        "outputId": "64a1d003-4704-4211-ed1b-0ef65f42259c"
      },
      "execution_count": null,
      "outputs": [
        {
          "output_type": "stream",
          "name": "stderr",
          "text": [
            "/usr/local/lib/python3.7/dist-packages/ipykernel_launcher.py:11: DeprecationWarning: Call to deprecated `__getitem__` (Method will be removed in 4.0.0, use self.wv.__getitem__() instead).\n",
            "  # This is added back by InteractiveShellApp.init_path()\n"
          ]
        },
        {
          "output_type": "execute_result",
          "data": {
            "text/plain": [
              "(1, 300)"
            ]
          },
          "metadata": {},
          "execution_count": 48
        }
      ]
    },
    {
      "cell_type": "code",
      "source": [
        "#분류모델을 통한 군집예측\n",
        "cluster_pred = lgbm.predict(test_data_vecs2)\n",
        "print(cluster_pred,cluster_10_words[cluster_pred[0]])"
      ],
      "metadata": {
        "id": "UZTGqV4WjWMg"
      },
      "execution_count": null,
      "outputs": []
    },
    {
      "cell_type": "code",
      "source": [
        ""
      ],
      "metadata": {
        "id": "em9ksVMaAmkl"
      },
      "execution_count": null,
      "outputs": []
    },
    {
      "cell_type": "code",
      "source": [
        "stop_list=['위치','최고','개별','통보','부서','연봉','수준','면접','이력서','학력','무관','제출','직무','서류','직책','회사','담당','업무','포지션','자격','조건','근무','방법','접수','기간','전형','경력','우대','경험','이상','관련','자격','요건','사항','가능','직급','보유','지원']\n",
        "def stopword(x):\n",
        "  result = []\n",
        "  for w in x:\n",
        "      if w not in stop_list:\n",
        "          result.append(w)\n",
        "  return result"
      ],
      "metadata": {
        "id": "nJFSTytnbv7g"
      },
      "execution_count": null,
      "outputs": []
    },
    {
      "cell_type": "code",
      "source": [
        "print(3)"
      ],
      "metadata": {
        "colab": {
          "base_uri": "https://localhost:8080/"
        },
        "id": "Cdtw2F2QeqAH",
        "outputId": "57e9e5f5-8972-4974-95bc-08234f5b22ba"
      },
      "execution_count": null,
      "outputs": [
        {
          "output_type": "stream",
          "name": "stdout",
          "text": [
            "3\n"
          ]
        }
      ]
    },
    {
      "cell_type": "code",
      "source": [
        "from konlpy.tag import Okt\n",
        "okt = Okt()"
      ],
      "metadata": {
        "id": "WUxQA1GmVOUS"
      },
      "execution_count": null,
      "outputs": []
    },
    {
      "cell_type": "code",
      "source": [
        "nouns = okt.nouns('''기술 발달로 인해 세계화가 가속되고 있는 지금, 메타버스 산업과 사물 인터넷 등 지금까지는 보지 못했던 속도로 산업의 변화가 일어나고 있습니다. 특히 2020년부터 계속 심해지고 있는 코로나 상황 속에서 비대면 산업이 발달하고 실물의 구매 보다는 온라인을 통한 구매가 많아지고 있습니다.\n",
        "이로 인해 많은 유통 구조가 변화하고 있으며 교육산업 또한 온라인으로 전환이 되고 있는 상황입니다.\n",
        "아마 포스트 코로나 시대에는 이러한 변화의 기조가 유지될 것이라고 생각이 됩니다. 이러한 디지털 혁명의 산업 속에서 지속 가능한 산업에 대해 생각해봤을 때 쉽게 없어지지 않고 향후 발전적인 산업은 바로 농업과 물류, 건설과 같은 산업들이 있습니다.\n",
        "또한 식품산업도 쉽게 도태되지 않을 산업들입니다. 저는 이러한 지속 가능한 산업과 관련된 회사에서 일하고 싶었습니다. 삼성물산은 화학, 철강, 에너지, 소재, 생활 산업 등을 원자재와 에너지 등 산업에 가장 기초적인 것들을 취급하기 때문에 향후 높은 발전가능성을 가지고 있다고 생각이 되어 지원하게 되었습니다.\n",
        "긍정적인 성격과 사람들과 잘 어울리고 외국 문화와 문물에 누구보다도 빠른 적응이 저의 강점이라고 생각합니다. 주변에 외국인 친구들과 교류를 많이 하고 어렸을 때부터 해외여행을 자주 해서 현지 생활 적응도 빠릅니다. 또한 저는 영어와 일본어 그리고 아랍어를 할 수 있기 때문에 저의 외국어 역량을 글로벌 기업인 삼성 물산에서 마음 것 펼치고 싶습니다.\n",
        "''')"
      ],
      "metadata": {
        "id": "IzBxfhtEVdAs"
      },
      "execution_count": null,
      "outputs": []
    },
    {
      "cell_type": "code",
      "source": [
        "nouns1 = [nouns]"
      ],
      "metadata": {
        "id": "keW8g0bRVnAh"
      },
      "execution_count": null,
      "outputs": []
    },
    {
      "cell_type": "code",
      "source": [
        "nouns1"
      ],
      "metadata": {
        "colab": {
          "base_uri": "https://localhost:8080/"
        },
        "id": "cIXprkcHV1Mw",
        "outputId": "4fddb315-8de6-4aee-96e5-a0810c53e5a0"
      },
      "execution_count": null,
      "outputs": [
        {
          "output_type": "execute_result",
          "data": {
            "text/plain": [
              "[['기술',\n",
              "  '발달',\n",
              "  '세계',\n",
              "  '화가',\n",
              "  '가속',\n",
              "  '지금',\n",
              "  '메타',\n",
              "  '버스',\n",
              "  '산업',\n",
              "  '사물',\n",
              "  '인터넷',\n",
              "  '등',\n",
              "  '지금',\n",
              "  '보지',\n",
              "  '속도',\n",
              "  '산업',\n",
              "  '변화',\n",
              "  '일어나고',\n",
              "  '계속',\n",
              "  '코로나',\n",
              "  '상황',\n",
              "  '속',\n",
              "  '비대',\n",
              "  '산업',\n",
              "  '발달',\n",
              "  '실물',\n",
              "  '구매',\n",
              "  '온라인',\n",
              "  '통한',\n",
              "  '구매',\n",
              "  '이로',\n",
              "  '유통',\n",
              "  '구조',\n",
              "  '변화',\n",
              "  '교육',\n",
              "  '산업',\n",
              "  '또한',\n",
              "  '온라인',\n",
              "  '전환',\n",
              "  '상황',\n",
              "  '아마',\n",
              "  '포스트',\n",
              "  '코로나',\n",
              "  '시대',\n",
              "  '변화',\n",
              "  '기조',\n",
              "  '유지',\n",
              "  '것',\n",
              "  '생각',\n",
              "  '디지털',\n",
              "  '혁명',\n",
              "  '산업',\n",
              "  '속',\n",
              "  '지속',\n",
              "  '산업',\n",
              "  '대해',\n",
              "  '생각',\n",
              "  '때',\n",
              "  '향후',\n",
              "  '발전',\n",
              "  '산업',\n",
              "  '바로',\n",
              "  '농업',\n",
              "  '물류',\n",
              "  '건설',\n",
              "  '산업',\n",
              "  '또한',\n",
              "  '식품',\n",
              "  '산업',\n",
              "  '도태',\n",
              "  '산업',\n",
              "  '저',\n",
              "  '지속',\n",
              "  '산업',\n",
              "  '관련',\n",
              "  '회사',\n",
              "  '일',\n",
              "  '물산',\n",
              "  '화학',\n",
              "  '철강',\n",
              "  '에너지',\n",
              "  '소재',\n",
              "  '생활',\n",
              "  '산업',\n",
              "  '등',\n",
              "  '원자재',\n",
              "  '에너지',\n",
              "  '등',\n",
              "  '산업',\n",
              "  '가장',\n",
              "  '기초',\n",
              "  '것',\n",
              "  '취급',\n",
              "  '때문',\n",
              "  '향후',\n",
              "  '발전',\n",
              "  '가능성',\n",
              "  '가지',\n",
              "  '생각',\n",
              "  '지원',\n",
              "  '긍정',\n",
              "  '성격',\n",
              "  '사람',\n",
              "  '외국',\n",
              "  '문화',\n",
              "  '문물',\n",
              "  '누구',\n",
              "  '적응',\n",
              "  '저',\n",
              "  '강점',\n",
              "  '생각',\n",
              "  '주변',\n",
              "  '외국인',\n",
              "  '친구',\n",
              "  '교류',\n",
              "  '때',\n",
              "  '해외여행',\n",
              "  '자주',\n",
              "  '현지',\n",
              "  '생활',\n",
              "  '적응도',\n",
              "  '또한',\n",
              "  '저',\n",
              "  '영어',\n",
              "  '일본어',\n",
              "  '아랍어',\n",
              "  '수',\n",
              "  '때문',\n",
              "  '저',\n",
              "  '외국어',\n",
              "  '역량',\n",
              "  '글로벌',\n",
              "  '기업인',\n",
              "  '삼성',\n",
              "  '물산',\n",
              "  '마음',\n",
              "  '것']]"
            ]
          },
          "metadata": {},
          "execution_count": 42
        }
      ]
    },
    {
      "cell_type": "code",
      "source": [
        "test_data_vecs2 = get_dataset(nouns1, model,300)\n",
        "test_data_vecs2.shape"
      ],
      "metadata": {
        "colab": {
          "base_uri": "https://localhost:8080/"
        },
        "id": "qzRIxkuqVs6X",
        "outputId": "508579ef-8df2-4de8-dd47-6caac43a1951"
      },
      "execution_count": null,
      "outputs": [
        {
          "output_type": "stream",
          "name": "stderr",
          "text": [
            "/usr/local/lib/python3.7/dist-packages/ipykernel_launcher.py:11: DeprecationWarning: Call to deprecated `__getitem__` (Method will be removed in 4.0.0, use self.wv.__getitem__() instead).\n",
            "  # This is added back by InteractiveShellApp.init_path()\n"
          ]
        },
        {
          "output_type": "execute_result",
          "data": {
            "text/plain": [
              "(1, 300)"
            ]
          },
          "metadata": {},
          "execution_count": 43
        }
      ]
    },
    {
      "cell_type": "code",
      "source": [
        "#분류모델을 통한 군집예측\n",
        "cluster_pred = lgbm.predict(test_data_vecs2)\n",
        "print(cluster_pred,cluster_10_words[cluster_pred[0]])"
      ],
      "metadata": {
        "colab": {
          "base_uri": "https://localhost:8080/"
        },
        "id": "CrEXkwiBV4i_",
        "outputId": "e0546983-393c-43f0-e2d1-e6ef8954d792"
      },
      "execution_count": null,
      "outputs": [
        {
          "output_type": "stream",
          "name": "stdout",
          "text": [
            "[0] ['관리 채용 경영 관리', '유관 학과 졸업', '현재 소속사 경쟁', '최종 현재 희망', '이사 일정 합격자', '고급 인재 주요', '포털사이트 문의 실시간 확인', '납기', '대한 실무', '서비스 프로젝트']\n"
          ]
        }
      ]
    },
    {
      "cell_type": "code",
      "source": [
        "test_data_vecs2"
      ],
      "metadata": {
        "colab": {
          "base_uri": "https://localhost:8080/"
        },
        "id": "D-S2jERbV8W4",
        "outputId": "eade6750-2b38-4fc0-d2a8-cd074d117b05"
      },
      "execution_count": null,
      "outputs": [
        {
          "output_type": "execute_result",
          "data": {
            "text/plain": [
              "array([[-0.12492308,  0.3152503 ,  0.23133056,  0.07055276,  0.0701743 ,\n",
              "         0.04668871, -0.10104071,  0.05238223, -0.2360748 , -0.08505312,\n",
              "         0.23731561, -0.21896501, -0.05282496, -0.03101308,  0.36309484,\n",
              "         0.21204637,  0.14489782,  0.00613062, -0.09936274, -0.11858839,\n",
              "        -0.1862546 ,  0.11813241,  0.02575823,  0.14861126, -0.03593323,\n",
              "         0.25989458,  0.1133213 , -0.11410299, -0.11307477,  0.4374414 ,\n",
              "         0.1799223 ,  0.08938187,  0.11923318,  0.19318639,  0.38022125,\n",
              "         0.02406798,  0.12081317,  0.05685631,  0.12142418,  0.11818523,\n",
              "         0.03335502,  0.09579631, -0.08705635, -0.15096633, -0.13825397,\n",
              "         0.0763253 ,  0.15958863,  0.13450097, -0.02767249, -0.10130018,\n",
              "        -0.03423523, -0.04827764, -0.03822123,  0.2576034 ,  0.02501093,\n",
              "         0.20424442, -0.13556674, -0.3054963 , -0.05857945,  0.36026046,\n",
              "         0.06316579,  0.0288805 , -0.09282766,  0.10041294, -0.13923045,\n",
              "         0.11387811, -0.01643135, -0.11588186,  0.03836564, -0.17549191,\n",
              "         0.1181578 ,  0.03976784,  0.04185319, -0.14301904,  0.06847237,\n",
              "        -0.08185054,  0.11502991, -0.06261751,  0.4295087 ,  0.34173173,\n",
              "         0.16188763,  0.17732579,  0.03747654,  0.08801308, -0.18551426,\n",
              "        -0.10005007,  0.02339621,  0.11045649, -0.14970925, -0.00917395,\n",
              "        -0.39173713,  0.2379555 ,  0.16095607,  0.16322643,  0.17175864,\n",
              "        -0.18153927, -0.20216918, -0.04710625, -0.0550818 , -0.26464742,\n",
              "        -0.08315334,  0.18176553, -0.16434337, -0.06191986, -0.11472437,\n",
              "         0.06360086,  0.00244643,  0.13319062,  0.22499418,  0.14208476,\n",
              "         0.14586093,  0.04638485,  0.04567953,  0.11043519,  0.06089407,\n",
              "        -0.1513583 , -0.11861529,  0.12327106,  0.0593948 ,  0.2511162 ,\n",
              "         0.02570661,  0.07441401,  0.31667513, -0.07677854, -0.1439157 ,\n",
              "         0.01007693, -0.04607301, -0.30469632,  0.13818476,  0.24383783,\n",
              "         0.14722778,  0.3630302 ,  0.22052106,  0.01953913, -0.098522  ,\n",
              "        -0.03544449,  0.03217113, -0.15569206, -0.36381638, -0.23059584,\n",
              "        -0.11282156,  0.16345908,  0.13180664, -0.3139358 , -0.00607206,\n",
              "        -0.16216896,  0.02586166,  0.01771805,  0.04641831, -0.17911375,\n",
              "        -0.3079383 , -0.14396514, -0.15378281, -0.26064175, -0.27871823,\n",
              "         0.05979445, -0.02095287,  0.13970481,  0.06329025,  0.17389406,\n",
              "        -0.18180938,  0.06567895, -0.13387676, -0.08828427, -0.29800752,\n",
              "         0.08562506, -0.0301485 , -0.05347397, -0.15487851,  0.2406128 ,\n",
              "         0.02295946,  0.00068802,  0.00485644,  0.24748239,  0.11812343,\n",
              "         0.01860761,  0.14875637,  0.2714042 ,  0.00951066,  0.02844092,\n",
              "        -0.32915157, -0.17239136,  0.05322916, -0.1670293 , -0.01499526,\n",
              "         0.13577971,  0.2153914 ,  0.12723683, -0.17789757,  0.13634884,\n",
              "         0.25276572,  0.15771717,  0.19292904,  0.02524391, -0.13114871,\n",
              "         0.07672493,  0.04667581, -0.16910207, -0.06836152,  0.16865215,\n",
              "        -0.02680629,  0.06658887,  0.15935555, -0.05430418,  0.12715432,\n",
              "        -0.13452022,  0.08144716, -0.18549061, -0.28023097, -0.01163677,\n",
              "         0.00888282, -0.22435881, -0.01961857,  0.07376897, -0.09310137,\n",
              "         0.15840186,  0.24749224, -0.2857165 ,  0.077279  ,  0.19252712,\n",
              "         0.22739187,  0.08938759,  0.18111843, -0.11520648, -0.12188329,\n",
              "         0.17776543, -0.19228067,  0.05377071, -0.17386779, -0.01564374,\n",
              "         0.0942927 ,  0.11658461,  0.16273504, -0.00651529, -0.34692994,\n",
              "        -0.1544999 ,  0.03596974,  0.01007565,  0.01357346,  0.09648026,\n",
              "        -0.0051343 , -0.1205059 , -0.08362769, -0.14338507, -0.29899392,\n",
              "         0.10107186, -0.16880459, -0.18007322,  0.17277749, -0.12121542,\n",
              "        -0.39092264,  0.19756925,  0.01148952, -0.21139911, -0.36669478,\n",
              "        -0.09949084, -0.06570929, -0.01501928, -0.03266444, -0.02098097,\n",
              "        -0.09922907, -0.10613578,  0.15708506, -0.146149  , -0.16009583,\n",
              "         0.01025304,  0.12706585, -0.18975951, -0.07944139,  0.20259131,\n",
              "         0.00620355,  0.01136741,  0.12075491, -0.10811122, -0.0149899 ,\n",
              "        -0.18199173, -0.03263291, -0.09861208,  0.10229281, -0.24992731,\n",
              "         0.15882581, -0.03091878, -0.25575796,  0.0191407 , -0.15779695,\n",
              "        -0.04239652, -0.31515282,  0.10892628,  0.1410363 , -0.08674082,\n",
              "        -0.13720441, -0.01722077, -0.15970844, -0.00455281, -0.24782705,\n",
              "         0.011948  , -0.01519263,  0.1198422 ,  0.1095651 , -0.05863054]],\n",
              "      dtype=float32)"
            ]
          },
          "metadata": {},
          "execution_count": 45
        }
      ]
    },
    {
      "cell_type": "code",
      "source": [
        "abc11 = data3.groupby('cluster_label').get_group(0)"
      ],
      "metadata": {
        "id": "t1IWxa_dWGes"
      },
      "execution_count": null,
      "outputs": []
    },
    {
      "cell_type": "code",
      "source": [
        "abc11[60:80]"
      ],
      "metadata": {
        "colab": {
          "base_uri": "https://localhost:8080/",
          "height": 1000
        },
        "id": "_aAsfh48WsrB",
        "outputId": "cc676f07-bf90-41b8-9a84-0f3a9a1d0956"
      },
      "execution_count": null,
      "outputs": [
        {
          "output_type": "execute_result",
          "data": {
            "text/plain": [
              "               산업명                                             공고명  \\\n",
              "313       섬유·의복·모피          용품 TD(사원-과장급)/(모자,가방패턴 경력 우대) - 패션 대기업   \n",
              "314       섬유·의복·모피  용품 스타일 디자이너 (선임~수석급)-국내 TOP 패션 대기업 [그룹사, 상장기업]   \n",
              "315       생활용품·화장품                              컬러리스트 신입/경력 정규직 채용   \n",
              "316       섬유·의복·모피      의류 스타일 디자이너(선임급)-국내 TOP 패션 대기업 [그룹사, 상장기업]   \n",
              "318       섬유·의복·모피            대형의류업체 본사 R&D센터 디자이너 (주임/사원급) 정규직 채용   \n",
              "320       섬유·의복·모피    컬러리스트/(아웃도어/스포츠브랜드 경력 필수)/ (대리~과장급) - 패션 대기업   \n",
              "321       섬유·의복·모피                                       [외국계패션]소싱   \n",
              "330       섬유·의복·모피                         [패션기업-매출1조] 여성복 소재 디자이너   \n",
              "332       섬유·의복·모피  중견기업 니트의류 OEM,ODM 수출디자인(R&D 디자이너) 임원급 구함(굿커리어)   \n",
              "333       섬유·의복·모피          소재(우븐,데님,니트) 각 소싱 담당/(대리~과장급) - 패션 대기업   \n",
              "339       섬유·의복·모피      의류 Main TD (대리급 이상)/(스포츠,골프경력 우대) - 패션 대기업   \n",
              "359       섬유·의복·모피                          [긴급]여성의류(아우터) 디자이너 실장급   \n",
              "360  인터넷·포털·컨텐츠·게임               베트남법인 설립 및 개발인력 확보 관련 법인장 경력사원 모집   \n",
              "361  인터넷·포털·컨텐츠·게임                인도법인 설립 및 개발인력 확보 관련 법인장 경력사원 모집   \n",
              "363          제조업기타                인사업무 총괄 팀장급 1명, 과장급 1명 - 대기업 지주사   \n",
              "365        용역·인력알선               긴급) 2022년도 컨설턴트 - 신입 및 경력직 리써쳐 모집   \n",
              "366        용역·인력알선        긴급) 2022년도 컨설턴트 (헤드헌터/리써쳐) 모집 - 신입,경력 우대   \n",
              "367        용역·인력알선                     모집) 헤드헌터 (2명) 모집 - 직업상담사 우대   \n",
              "368        용역·인력알선                     긴급) 헤드헌터 (2명) 모집 - 직업상담사 우대   \n",
              "369        용역·인력알선  긴급) 헤드헌터 (2명) 모집 - 신입 또는 경력단절되신분 지원가능-직업상담사 우대   \n",
              "\n",
              "              경력                   근무지역       직종_대분류  \\\n",
              "313       경력7년이상               서울 > 강남구          디자인   \n",
              "314       경력8년이상               서울 > 전지역          디자인   \n",
              "315  신입/경력(연차무관)  경기 > 안산시 상록구, 안산시 단원구          디자인   \n",
              "316       경력4년이상               서울 > 전지역          디자인   \n",
              "318       경력1~5년               서울 > 전지역          디자인   \n",
              "320       경력5년이상               서울 > 강남구          디자인   \n",
              "321      경력5~10년               서울 > 강남구          디자인   \n",
              "330      경력5~10년               서울 > 전지역          디자인   \n",
              "332      경력10년이상               서울 > 전지역          디자인   \n",
              "333       경력5년이상               서울 > 강남구          디자인   \n",
              "339       경력5년이상               서울 > 강남구          디자인   \n",
              "359     경력10~20년          경기 > 고양시 일산동구          디자인   \n",
              "360      경력5~20년          VT > 호치민, 전지역  경영,인사,총무,사무   \n",
              "361      경력5~20년               IN > 전지역  경영,인사,총무,사무   \n",
              "363       경력8년이상               서울 > 강남구  경영,인사,총무,사무   \n",
              "365  신입/경력(연차무관)               서울 > 강남구  경영,인사,총무,사무   \n",
              "366  신입/경력(연차무관)               서울 > 강남구  경영,인사,총무,사무   \n",
              "367       경력1년이상               서울 > 전지역  경영,인사,총무,사무   \n",
              "368       경력1년이상               서울 > 전지역  경영,인사,총무,사무   \n",
              "369       경력1년이하               서울 > 강남구  경영,인사,총무,사무   \n",
              "\n",
              "                                                  자격요건  \\\n",
              "313  자격요건\\nㆍ관련 경력 7년 이상 보유자\\nㆍ가방패턴 및 제작경험 필수\\nㆍ모자패턴...   \n",
              "314                                               none   \n",
              "315  [자격요건]\\n경력사항: 신입, 경력(1년이상)\\n학력사항: 고등학교졸업 이상\\n직...   \n",
              "316                                               none   \n",
              "318                                               none   \n",
              "320  자격요건\\nㆍ컬러리스트 경력 5년차 이상\\nㆍ아웃도어/스포츠브랜드 경력 필수\\n 기...   \n",
              "321  ㆍ경력 : 5년 ~ 10년\\nㆍ의류브랜드 생산 MD 경력\\nㆍ의류학과 출신 선호\\n...   \n",
              "330                                               none   \n",
              "332  안녕하세요 \\n굿커리어의 헤드헌터 유창덕입니다. \\n저희는 금융,소비재팀과 반도체,...   \n",
              "333  자격요건\\nㆍ대졸이상, 해당 업무 유경험자\\nㆍ관련 경험 8년 이상 전문성 보유자/...   \n",
              "339  자격요건\\nㆍTD 경력 5년 이상 필수\\nㆍ영어 커뮤니케이션 가능자\\nㆍ내수브랜드 ...   \n",
              "359                                               none   \n",
              "360  [자격요건]\\n경력사항: 신입, 경력(연차무관)\\n학력사항: 학력무관\\n커뮤니케이션...   \n",
              "361                                               none   \n",
              "363  [자격요건]\\n경력사항: 경력(7년 이상 )\\n학력사항: 대학교(4년)졸업\\n* 투...   \n",
              "365                                               none   \n",
              "366                                               none   \n",
              "367                                               none   \n",
              "368                                               none   \n",
              "369                                               none   \n",
              "\n",
              "                                                  업무내용  기업규모   등록일자  \\\n",
              "313  ㆍ모자 가방의 용품 스펙 및 패턴 점검\\nㆍ프리미엄 패션 브랜드의 용품 TD로 개발...   대기업  44686   \n",
              "314                                               none  중소기업  44715   \n",
              "315  [담당업무]\\n컬러리스트(조색사)\\n\\n[근무부서 및 직급/직책]\\n근무부서: 컬러...   소기업  44715   \n",
              "316                                               none  중견기업  44715   \n",
              "318                                               none  중견기업  44714   \n",
              "320          ㆍ컬러트렌드 분석을 통한 브랜드 라인별 시즌\\n   컬러 및 컬러웨이 설정   대기업  44686   \n",
              "321            - 상품개발, 업체선정 및 발굴\\n- 원가관리, 제품관리, 납기관리 등  중소기업  44658   \n",
              "330                                               none  중견기업  44707   \n",
              "332                  [근무부서 및 직급/직책]\\n직급/직책: 부장, 이사, 상무  중견기업  44705   \n",
              "333  채용 포지션 및 담당직무\\n1. (우븐, 데님) 소싱 담당 (과장급)\\nㆍ글로벌 제...   대기업  44703   \n",
              "339  ㆍ봉제컨스트럭션과 퀄리티 관리\\nㆍPP와 핏샘플 승인과 핏 스케줄 관리\\nㆍ스펙 확...   대기업  44686   \n",
              "359                                               none  중견기업  44174   \n",
              "360     - 후보자발굴 \\n   - 인재서칭, 추천, 진행, 레퍼런스 체크 등\\n   ...  중견기업  44724   \n",
              "361                                               none  중견기업  44724   \n",
              "363  [근무부서 및 직급/직책]\\n직급/직책: 과장, 부장\\n* 그룹 배터리 소재 투자 ...   대기업  44652   \n",
              "365                                               none  중소기업  44725   \n",
              "366                                               none  중소기업  44725   \n",
              "367                                               none  중소기업  44725   \n",
              "368                                               none  중소기업  44725   \n",
              "369                                               none   중기업  44725   \n",
              "\n",
              "                                             full_work  \\\n",
              "313  [모자, 가방, 용품, 스펙, 패턴, 점검, 프리미엄, 패션, 브랜드, 용품, 개발...   \n",
              "314  [수주, 샘플, 드로잉, 도메인, 패션, 브랜드, 용품, 디자이너, 작성, 능력, ...   \n",
              "315                          [컬러, 리스트, 조색, 컬러, 개발, 사원]   \n",
              "316     [수주, 샘플, 드로잉, 도메인, 패션, 브랜드, 스타일, 디자이너, 작성, 능력]   \n",
              "318  [스타일, 가먼트, 디자인, 기획, 스타, 일별, 일러스트, 스케치, 바이어, 미팅...   \n",
              "320     [컬러, 트렌드, 분석, 통한, 브랜드, 라인, 시즌, 컬러, 컬러, 웨이, 설정]   \n",
              "321       [상품, 개발, 업체, 선정, 발굴, 원가, 관리, 제품, 관리, 납기, 관리]   \n",
              "330                                     [성복, 소재, 디자이너]   \n",
              "332                                       [부장, 이사, 상무]   \n",
              "333  [채용, 우븐, 데님, 소싱, 과장, 글로벌, 제품, 데님, 완제, 소재, 직소, ...   \n",
              "339  [봉제, 컨스, 트럭, 퀄리티, 관리, 샘플, 승인, 스케줄, 관리, 스펙, 확정,...   \n",
              "359  [긴급, 여성, 의류, 아우, 디자이너, 실장, 인원, 실장, 시즌, 기획, 브랜드...   \n",
              "360       [후보자, 발굴, 인재, 추천, 진행, 레퍼런스, 체크, 후보자, 커뮤니케이션]   \n",
              "361  [인도, 현지, 사업, 환경, 인프라, 규제, 대한, 이해, 네트워크, 인도, 법인...   \n",
              "363  [과장, 부장, 그룹, 배터리, 소재, 투자, 전략, 수립, 배터리, 개발, 방향성...   \n",
              "365  [스킬, 대한, 레벨, 문화, 가족, 무엇, 서로, 코웍하, 초기, 정착, 합리, ...   \n",
              "366  [스킬, 대한, 레벨, 문화, 가족, 무엇, 서로, 코웍하, 초기, 정착, 합리, ...   \n",
              "367  [인원, 헤드헌터, 고객, 발굴, 신규, 마케팅, 후보자, 추천, 후보자, 인터뷰,...   \n",
              "368  [인원, 헤드헌터, 고객, 발굴, 신규, 마케팅, 후보자, 추천, 후보자, 인터뷰,...   \n",
              "369                                               [숙지]   \n",
              "\n",
              "                                            full_quali  \\\n",
              "313  [가방, 패턴, 제작, 필수, 모자, 패턴, 봉제, 선호, 의류, 학과, 선호, 주...   \n",
              "314            [출신, 지역, 혼인, 여부, 재산, 직계, 존비속, 형제자매, 직업]   \n",
              "315  [신입, 고등학교, 졸업, 기술, 컬러, 리스트, 자격증, 컬러, 리스트, 기사, ...   \n",
              "316            [출신, 지역, 혼인, 여부, 재산, 직계, 존비속, 형제자매, 직업]   \n",
              "318  [수가, 필수, 이하, 정도, 주임, 사원, 영어, 능통, 해외, 유학, 체류, 참...   \n",
              "320  [컬러, 리스트, 아웃도어, 스포츠, 브랜드, 필수, 기타, 고용, 형태, 정규직,...   \n",
              "321              [의류, 브랜드, 생산, 의류, 학과, 출신, 선호, 출신, 선호]   \n",
              "330  [성복, 브랜드, 소재, 디자인, 대리, 과장, 책임감, 주도, 성격, 중국, 공장...   \n",
              "332  [커리어, 헤드헌터, 유창, 저희, 금융, 소비재, 반도체, 전자, 컨설팅, 중공업...   \n",
              "333  [대졸, 해당, 전문성, 대리, 영어, 유선, 무선, 영어, 중국어, 기타, 고용,...   \n",
              "339  [필수, 영어, 커뮤니케이션, 브랜드, 스포츠, 주얼, 골프, 기타, 고용, 형태,...   \n",
              "359                 [내외, 바이어, 관리, 브랜드, 미주, 출신, 즉시, 출근]   \n",
              "360  [신입, 연차, 커뮤니케이션, 능력, 변화, 혁신, 대한, 열정, 가지, 신분, 헤...   \n",
              "361  [인도, 현지, 사업, 환경, 인프라, 규제, 대한, 이해, 네트워크, 인도, 법인...   \n",
              "363  [대학교, 졸업, 투자, 전략, 수립, 시행, 신규, 사업, 개발, 전략, 수립, ...   \n",
              "365  [서치, 컨설턴트, 기업, 실무, 현재, 개인, 매출, 고민, 스킬, 레벨, 현재,...   \n",
              "366  [서치, 컨설턴트, 기업, 실무, 현재, 개인, 매출, 고민, 스킬, 레벨, 현재,...   \n",
              "367  [인원, 헤드헌터, 고객, 발굴, 신규, 마케팅, 후보자, 추천, 후보자, 인터뷰,...   \n",
              "368  [인원, 헤드헌터, 고객, 발굴, 신규, 마케팅, 후보자, 추천, 후보자, 인터뷰,...   \n",
              "369  [모집, 부문, 인원, 헤드헌터, 고객, 발굴, 신규, 마케팅, 후보자, 추천, 후...   \n",
              "\n",
              "                                             full_noun  cluster_label  \n",
              "313  [모자, 가방, 용품, 스펙, 패턴, 점검, 프리미엄, 패션, 브랜드, 용품, 개발...              0  \n",
              "314  [수주, 샘플, 드로잉, 도메인, 패션, 브랜드, 용품, 디자이너, 작성, 능력, ...              0  \n",
              "315  [컬러, 리스트, 조색, 컬러, 개발, 사원, 신입, 고등학교, 졸업, 기술, 컬러...              0  \n",
              "316  [수주, 샘플, 드로잉, 도메인, 패션, 브랜드, 스타일, 디자이너, 작성, 능력,...              0  \n",
              "318  [스타일, 가먼트, 디자인, 기획, 스타, 일별, 일러스트, 스케치, 바이어, 미팅...              0  \n",
              "320  [컬러, 트렌드, 분석, 통한, 브랜드, 라인, 시즌, 컬러, 컬러, 웨이, 설정,...              0  \n",
              "321  [상품, 개발, 업체, 선정, 발굴, 원가, 관리, 제품, 관리, 납기, 관리, 의...              0  \n",
              "330  [성복, 소재, 디자이너, 성복, 브랜드, 소재, 디자인, 대리, 과장, 책임감, ...              0  \n",
              "332  [부장, 이사, 상무, 커리어, 헤드헌터, 유창, 저희, 금융, 소비재, 반도체, ...              0  \n",
              "333  [채용, 우븐, 데님, 소싱, 과장, 글로벌, 제품, 데님, 완제, 소재, 직소, ...              0  \n",
              "339  [봉제, 컨스, 트럭, 퀄리티, 관리, 샘플, 승인, 스케줄, 관리, 스펙, 확정,...              0  \n",
              "359  [긴급, 여성, 의류, 아우, 디자이너, 실장, 인원, 실장, 시즌, 기획, 브랜드...              0  \n",
              "360  [후보자, 발굴, 인재, 추천, 진행, 레퍼런스, 체크, 후보자, 커뮤니케이션, 신...              0  \n",
              "361  [인도, 현지, 사업, 환경, 인프라, 규제, 대한, 이해, 네트워크, 인도, 법인...              0  \n",
              "363  [과장, 부장, 그룹, 배터리, 소재, 투자, 전략, 수립, 배터리, 개발, 방향성...              0  \n",
              "365  [스킬, 대한, 레벨, 문화, 가족, 무엇, 서로, 코웍하, 초기, 정착, 합리, ...              0  \n",
              "366  [스킬, 대한, 레벨, 문화, 가족, 무엇, 서로, 코웍하, 초기, 정착, 합리, ...              0  \n",
              "367  [인원, 헤드헌터, 고객, 발굴, 신규, 마케팅, 후보자, 추천, 후보자, 인터뷰,...              0  \n",
              "368  [인원, 헤드헌터, 고객, 발굴, 신규, 마케팅, 후보자, 추천, 후보자, 인터뷰,...              0  \n",
              "369  [숙지, 모집, 부문, 인원, 헤드헌터, 고객, 발굴, 신규, 마케팅, 후보자, 추...              0  "
            ],
            "text/html": [
              "\n",
              "  <div id=\"df-361a0b3d-2918-4675-9f24-06ddde579da3\">\n",
              "    <div class=\"colab-df-container\">\n",
              "      <div>\n",
              "<style scoped>\n",
              "    .dataframe tbody tr th:only-of-type {\n",
              "        vertical-align: middle;\n",
              "    }\n",
              "\n",
              "    .dataframe tbody tr th {\n",
              "        vertical-align: top;\n",
              "    }\n",
              "\n",
              "    .dataframe thead th {\n",
              "        text-align: right;\n",
              "    }\n",
              "</style>\n",
              "<table border=\"1\" class=\"dataframe\">\n",
              "  <thead>\n",
              "    <tr style=\"text-align: right;\">\n",
              "      <th></th>\n",
              "      <th>산업명</th>\n",
              "      <th>공고명</th>\n",
              "      <th>경력</th>\n",
              "      <th>근무지역</th>\n",
              "      <th>직종_대분류</th>\n",
              "      <th>자격요건</th>\n",
              "      <th>업무내용</th>\n",
              "      <th>기업규모</th>\n",
              "      <th>등록일자</th>\n",
              "      <th>full_work</th>\n",
              "      <th>full_quali</th>\n",
              "      <th>full_noun</th>\n",
              "      <th>cluster_label</th>\n",
              "    </tr>\n",
              "  </thead>\n",
              "  <tbody>\n",
              "    <tr>\n",
              "      <th>313</th>\n",
              "      <td>섬유·의복·모피</td>\n",
              "      <td>용품 TD(사원-과장급)/(모자,가방패턴 경력 우대) - 패션 대기업</td>\n",
              "      <td>경력7년이상</td>\n",
              "      <td>서울 &gt; 강남구</td>\n",
              "      <td>디자인</td>\n",
              "      <td>자격요건\\nㆍ관련 경력 7년 이상 보유자\\nㆍ가방패턴 및 제작경험 필수\\nㆍ모자패턴...</td>\n",
              "      <td>ㆍ모자 가방의 용품 스펙 및 패턴 점검\\nㆍ프리미엄 패션 브랜드의 용품 TD로 개발...</td>\n",
              "      <td>대기업</td>\n",
              "      <td>44686</td>\n",
              "      <td>[모자, 가방, 용품, 스펙, 패턴, 점검, 프리미엄, 패션, 브랜드, 용품, 개발...</td>\n",
              "      <td>[가방, 패턴, 제작, 필수, 모자, 패턴, 봉제, 선호, 의류, 학과, 선호, 주...</td>\n",
              "      <td>[모자, 가방, 용품, 스펙, 패턴, 점검, 프리미엄, 패션, 브랜드, 용품, 개발...</td>\n",
              "      <td>0</td>\n",
              "    </tr>\n",
              "    <tr>\n",
              "      <th>314</th>\n",
              "      <td>섬유·의복·모피</td>\n",
              "      <td>용품 스타일 디자이너 (선임~수석급)-국내 TOP 패션 대기업 [그룹사, 상장기업]</td>\n",
              "      <td>경력8년이상</td>\n",
              "      <td>서울 &gt; 전지역</td>\n",
              "      <td>디자인</td>\n",
              "      <td>none</td>\n",
              "      <td>none</td>\n",
              "      <td>중소기업</td>\n",
              "      <td>44715</td>\n",
              "      <td>[수주, 샘플, 드로잉, 도메인, 패션, 브랜드, 용품, 디자이너, 작성, 능력, ...</td>\n",
              "      <td>[출신, 지역, 혼인, 여부, 재산, 직계, 존비속, 형제자매, 직업]</td>\n",
              "      <td>[수주, 샘플, 드로잉, 도메인, 패션, 브랜드, 용품, 디자이너, 작성, 능력, ...</td>\n",
              "      <td>0</td>\n",
              "    </tr>\n",
              "    <tr>\n",
              "      <th>315</th>\n",
              "      <td>생활용품·화장품</td>\n",
              "      <td>컬러리스트 신입/경력 정규직 채용</td>\n",
              "      <td>신입/경력(연차무관)</td>\n",
              "      <td>경기 &gt; 안산시 상록구, 안산시 단원구</td>\n",
              "      <td>디자인</td>\n",
              "      <td>[자격요건]\\n경력사항: 신입, 경력(1년이상)\\n학력사항: 고등학교졸업 이상\\n직...</td>\n",
              "      <td>[담당업무]\\n컬러리스트(조색사)\\n\\n[근무부서 및 직급/직책]\\n근무부서: 컬러...</td>\n",
              "      <td>소기업</td>\n",
              "      <td>44715</td>\n",
              "      <td>[컬러, 리스트, 조색, 컬러, 개발, 사원]</td>\n",
              "      <td>[신입, 고등학교, 졸업, 기술, 컬러, 리스트, 자격증, 컬러, 리스트, 기사, ...</td>\n",
              "      <td>[컬러, 리스트, 조색, 컬러, 개발, 사원, 신입, 고등학교, 졸업, 기술, 컬러...</td>\n",
              "      <td>0</td>\n",
              "    </tr>\n",
              "    <tr>\n",
              "      <th>316</th>\n",
              "      <td>섬유·의복·모피</td>\n",
              "      <td>의류 스타일 디자이너(선임급)-국내 TOP 패션 대기업 [그룹사, 상장기업]</td>\n",
              "      <td>경력4년이상</td>\n",
              "      <td>서울 &gt; 전지역</td>\n",
              "      <td>디자인</td>\n",
              "      <td>none</td>\n",
              "      <td>none</td>\n",
              "      <td>중견기업</td>\n",
              "      <td>44715</td>\n",
              "      <td>[수주, 샘플, 드로잉, 도메인, 패션, 브랜드, 스타일, 디자이너, 작성, 능력]</td>\n",
              "      <td>[출신, 지역, 혼인, 여부, 재산, 직계, 존비속, 형제자매, 직업]</td>\n",
              "      <td>[수주, 샘플, 드로잉, 도메인, 패션, 브랜드, 스타일, 디자이너, 작성, 능력,...</td>\n",
              "      <td>0</td>\n",
              "    </tr>\n",
              "    <tr>\n",
              "      <th>318</th>\n",
              "      <td>섬유·의복·모피</td>\n",
              "      <td>대형의류업체 본사 R&amp;D센터 디자이너 (주임/사원급) 정규직 채용</td>\n",
              "      <td>경력1~5년</td>\n",
              "      <td>서울 &gt; 전지역</td>\n",
              "      <td>디자인</td>\n",
              "      <td>none</td>\n",
              "      <td>none</td>\n",
              "      <td>중견기업</td>\n",
              "      <td>44714</td>\n",
              "      <td>[스타일, 가먼트, 디자인, 기획, 스타, 일별, 일러스트, 스케치, 바이어, 미팅...</td>\n",
              "      <td>[수가, 필수, 이하, 정도, 주임, 사원, 영어, 능통, 해외, 유학, 체류, 참...</td>\n",
              "      <td>[스타일, 가먼트, 디자인, 기획, 스타, 일별, 일러스트, 스케치, 바이어, 미팅...</td>\n",
              "      <td>0</td>\n",
              "    </tr>\n",
              "    <tr>\n",
              "      <th>320</th>\n",
              "      <td>섬유·의복·모피</td>\n",
              "      <td>컬러리스트/(아웃도어/스포츠브랜드 경력 필수)/ (대리~과장급) - 패션 대기업</td>\n",
              "      <td>경력5년이상</td>\n",
              "      <td>서울 &gt; 강남구</td>\n",
              "      <td>디자인</td>\n",
              "      <td>자격요건\\nㆍ컬러리스트 경력 5년차 이상\\nㆍ아웃도어/스포츠브랜드 경력 필수\\n 기...</td>\n",
              "      <td>ㆍ컬러트렌드 분석을 통한 브랜드 라인별 시즌\\n   컬러 및 컬러웨이 설정</td>\n",
              "      <td>대기업</td>\n",
              "      <td>44686</td>\n",
              "      <td>[컬러, 트렌드, 분석, 통한, 브랜드, 라인, 시즌, 컬러, 컬러, 웨이, 설정]</td>\n",
              "      <td>[컬러, 리스트, 아웃도어, 스포츠, 브랜드, 필수, 기타, 고용, 형태, 정규직,...</td>\n",
              "      <td>[컬러, 트렌드, 분석, 통한, 브랜드, 라인, 시즌, 컬러, 컬러, 웨이, 설정,...</td>\n",
              "      <td>0</td>\n",
              "    </tr>\n",
              "    <tr>\n",
              "      <th>321</th>\n",
              "      <td>섬유·의복·모피</td>\n",
              "      <td>[외국계패션]소싱</td>\n",
              "      <td>경력5~10년</td>\n",
              "      <td>서울 &gt; 강남구</td>\n",
              "      <td>디자인</td>\n",
              "      <td>ㆍ경력 : 5년 ~ 10년\\nㆍ의류브랜드 생산 MD 경력\\nㆍ의류학과 출신 선호\\n...</td>\n",
              "      <td>- 상품개발, 업체선정 및 발굴\\n- 원가관리, 제품관리, 납기관리 등</td>\n",
              "      <td>중소기업</td>\n",
              "      <td>44658</td>\n",
              "      <td>[상품, 개발, 업체, 선정, 발굴, 원가, 관리, 제품, 관리, 납기, 관리]</td>\n",
              "      <td>[의류, 브랜드, 생산, 의류, 학과, 출신, 선호, 출신, 선호]</td>\n",
              "      <td>[상품, 개발, 업체, 선정, 발굴, 원가, 관리, 제품, 관리, 납기, 관리, 의...</td>\n",
              "      <td>0</td>\n",
              "    </tr>\n",
              "    <tr>\n",
              "      <th>330</th>\n",
              "      <td>섬유·의복·모피</td>\n",
              "      <td>[패션기업-매출1조] 여성복 소재 디자이너</td>\n",
              "      <td>경력5~10년</td>\n",
              "      <td>서울 &gt; 전지역</td>\n",
              "      <td>디자인</td>\n",
              "      <td>none</td>\n",
              "      <td>none</td>\n",
              "      <td>중견기업</td>\n",
              "      <td>44707</td>\n",
              "      <td>[성복, 소재, 디자이너]</td>\n",
              "      <td>[성복, 브랜드, 소재, 디자인, 대리, 과장, 책임감, 주도, 성격, 중국, 공장...</td>\n",
              "      <td>[성복, 소재, 디자이너, 성복, 브랜드, 소재, 디자인, 대리, 과장, 책임감, ...</td>\n",
              "      <td>0</td>\n",
              "    </tr>\n",
              "    <tr>\n",
              "      <th>332</th>\n",
              "      <td>섬유·의복·모피</td>\n",
              "      <td>중견기업 니트의류 OEM,ODM 수출디자인(R&amp;D 디자이너) 임원급 구함(굿커리어)</td>\n",
              "      <td>경력10년이상</td>\n",
              "      <td>서울 &gt; 전지역</td>\n",
              "      <td>디자인</td>\n",
              "      <td>안녕하세요 \\n굿커리어의 헤드헌터 유창덕입니다. \\n저희는 금융,소비재팀과 반도체,...</td>\n",
              "      <td>[근무부서 및 직급/직책]\\n직급/직책: 부장, 이사, 상무</td>\n",
              "      <td>중견기업</td>\n",
              "      <td>44705</td>\n",
              "      <td>[부장, 이사, 상무]</td>\n",
              "      <td>[커리어, 헤드헌터, 유창, 저희, 금융, 소비재, 반도체, 전자, 컨설팅, 중공업...</td>\n",
              "      <td>[부장, 이사, 상무, 커리어, 헤드헌터, 유창, 저희, 금융, 소비재, 반도체, ...</td>\n",
              "      <td>0</td>\n",
              "    </tr>\n",
              "    <tr>\n",
              "      <th>333</th>\n",
              "      <td>섬유·의복·모피</td>\n",
              "      <td>소재(우븐,데님,니트) 각 소싱 담당/(대리~과장급) - 패션 대기업</td>\n",
              "      <td>경력5년이상</td>\n",
              "      <td>서울 &gt; 강남구</td>\n",
              "      <td>디자인</td>\n",
              "      <td>자격요건\\nㆍ대졸이상, 해당 업무 유경험자\\nㆍ관련 경험 8년 이상 전문성 보유자/...</td>\n",
              "      <td>채용 포지션 및 담당직무\\n1. (우븐, 데님) 소싱 담당 (과장급)\\nㆍ글로벌 제...</td>\n",
              "      <td>대기업</td>\n",
              "      <td>44703</td>\n",
              "      <td>[채용, 우븐, 데님, 소싱, 과장, 글로벌, 제품, 데님, 완제, 소재, 직소, ...</td>\n",
              "      <td>[대졸, 해당, 전문성, 대리, 영어, 유선, 무선, 영어, 중국어, 기타, 고용,...</td>\n",
              "      <td>[채용, 우븐, 데님, 소싱, 과장, 글로벌, 제품, 데님, 완제, 소재, 직소, ...</td>\n",
              "      <td>0</td>\n",
              "    </tr>\n",
              "    <tr>\n",
              "      <th>339</th>\n",
              "      <td>섬유·의복·모피</td>\n",
              "      <td>의류 Main TD (대리급 이상)/(스포츠,골프경력 우대) - 패션 대기업</td>\n",
              "      <td>경력5년이상</td>\n",
              "      <td>서울 &gt; 강남구</td>\n",
              "      <td>디자인</td>\n",
              "      <td>자격요건\\nㆍTD 경력 5년 이상 필수\\nㆍ영어 커뮤니케이션 가능자\\nㆍ내수브랜드 ...</td>\n",
              "      <td>ㆍ봉제컨스트럭션과 퀄리티 관리\\nㆍPP와 핏샘플 승인과 핏 스케줄 관리\\nㆍ스펙 확...</td>\n",
              "      <td>대기업</td>\n",
              "      <td>44686</td>\n",
              "      <td>[봉제, 컨스, 트럭, 퀄리티, 관리, 샘플, 승인, 스케줄, 관리, 스펙, 확정,...</td>\n",
              "      <td>[필수, 영어, 커뮤니케이션, 브랜드, 스포츠, 주얼, 골프, 기타, 고용, 형태,...</td>\n",
              "      <td>[봉제, 컨스, 트럭, 퀄리티, 관리, 샘플, 승인, 스케줄, 관리, 스펙, 확정,...</td>\n",
              "      <td>0</td>\n",
              "    </tr>\n",
              "    <tr>\n",
              "      <th>359</th>\n",
              "      <td>섬유·의복·모피</td>\n",
              "      <td>[긴급]여성의류(아우터) 디자이너 실장급</td>\n",
              "      <td>경력10~20년</td>\n",
              "      <td>경기 &gt; 고양시 일산동구</td>\n",
              "      <td>디자인</td>\n",
              "      <td>none</td>\n",
              "      <td>none</td>\n",
              "      <td>중견기업</td>\n",
              "      <td>44174</td>\n",
              "      <td>[긴급, 여성, 의류, 아우, 디자이너, 실장, 인원, 실장, 시즌, 기획, 브랜드...</td>\n",
              "      <td>[내외, 바이어, 관리, 브랜드, 미주, 출신, 즉시, 출근]</td>\n",
              "      <td>[긴급, 여성, 의류, 아우, 디자이너, 실장, 인원, 실장, 시즌, 기획, 브랜드...</td>\n",
              "      <td>0</td>\n",
              "    </tr>\n",
              "    <tr>\n",
              "      <th>360</th>\n",
              "      <td>인터넷·포털·컨텐츠·게임</td>\n",
              "      <td>베트남법인 설립 및 개발인력 확보 관련 법인장 경력사원 모집</td>\n",
              "      <td>경력5~20년</td>\n",
              "      <td>VT &gt; 호치민, 전지역</td>\n",
              "      <td>경영,인사,총무,사무</td>\n",
              "      <td>[자격요건]\\n경력사항: 신입, 경력(연차무관)\\n학력사항: 학력무관\\n커뮤니케이션...</td>\n",
              "      <td>- 후보자발굴 \\n   - 인재서칭, 추천, 진행, 레퍼런스 체크 등\\n   ...</td>\n",
              "      <td>중견기업</td>\n",
              "      <td>44724</td>\n",
              "      <td>[후보자, 발굴, 인재, 추천, 진행, 레퍼런스, 체크, 후보자, 커뮤니케이션]</td>\n",
              "      <td>[신입, 연차, 커뮤니케이션, 능력, 변화, 혁신, 대한, 열정, 가지, 신분, 헤...</td>\n",
              "      <td>[후보자, 발굴, 인재, 추천, 진행, 레퍼런스, 체크, 후보자, 커뮤니케이션, 신...</td>\n",
              "      <td>0</td>\n",
              "    </tr>\n",
              "    <tr>\n",
              "      <th>361</th>\n",
              "      <td>인터넷·포털·컨텐츠·게임</td>\n",
              "      <td>인도법인 설립 및 개발인력 확보 관련 법인장 경력사원 모집</td>\n",
              "      <td>경력5~20년</td>\n",
              "      <td>IN &gt; 전지역</td>\n",
              "      <td>경영,인사,총무,사무</td>\n",
              "      <td>none</td>\n",
              "      <td>none</td>\n",
              "      <td>중견기업</td>\n",
              "      <td>44724</td>\n",
              "      <td>[인도, 현지, 사업, 환경, 인프라, 규제, 대한, 이해, 네트워크, 인도, 법인...</td>\n",
              "      <td>[인도, 현지, 사업, 환경, 인프라, 규제, 대한, 이해, 네트워크, 인도, 법인...</td>\n",
              "      <td>[인도, 현지, 사업, 환경, 인프라, 규제, 대한, 이해, 네트워크, 인도, 법인...</td>\n",
              "      <td>0</td>\n",
              "    </tr>\n",
              "    <tr>\n",
              "      <th>363</th>\n",
              "      <td>제조업기타</td>\n",
              "      <td>인사업무 총괄 팀장급 1명, 과장급 1명 - 대기업 지주사</td>\n",
              "      <td>경력8년이상</td>\n",
              "      <td>서울 &gt; 강남구</td>\n",
              "      <td>경영,인사,총무,사무</td>\n",
              "      <td>[자격요건]\\n경력사항: 경력(7년 이상 )\\n학력사항: 대학교(4년)졸업\\n* 투...</td>\n",
              "      <td>[근무부서 및 직급/직책]\\n직급/직책: 과장, 부장\\n* 그룹 배터리 소재 투자 ...</td>\n",
              "      <td>대기업</td>\n",
              "      <td>44652</td>\n",
              "      <td>[과장, 부장, 그룹, 배터리, 소재, 투자, 전략, 수립, 배터리, 개발, 방향성...</td>\n",
              "      <td>[대학교, 졸업, 투자, 전략, 수립, 시행, 신규, 사업, 개발, 전략, 수립, ...</td>\n",
              "      <td>[과장, 부장, 그룹, 배터리, 소재, 투자, 전략, 수립, 배터리, 개발, 방향성...</td>\n",
              "      <td>0</td>\n",
              "    </tr>\n",
              "    <tr>\n",
              "      <th>365</th>\n",
              "      <td>용역·인력알선</td>\n",
              "      <td>긴급) 2022년도 컨설턴트 - 신입 및 경력직 리써쳐 모집</td>\n",
              "      <td>신입/경력(연차무관)</td>\n",
              "      <td>서울 &gt; 강남구</td>\n",
              "      <td>경영,인사,총무,사무</td>\n",
              "      <td>none</td>\n",
              "      <td>none</td>\n",
              "      <td>중소기업</td>\n",
              "      <td>44725</td>\n",
              "      <td>[스킬, 대한, 레벨, 문화, 가족, 무엇, 서로, 코웍하, 초기, 정착, 합리, ...</td>\n",
              "      <td>[서치, 컨설턴트, 기업, 실무, 현재, 개인, 매출, 고민, 스킬, 레벨, 현재,...</td>\n",
              "      <td>[스킬, 대한, 레벨, 문화, 가족, 무엇, 서로, 코웍하, 초기, 정착, 합리, ...</td>\n",
              "      <td>0</td>\n",
              "    </tr>\n",
              "    <tr>\n",
              "      <th>366</th>\n",
              "      <td>용역·인력알선</td>\n",
              "      <td>긴급) 2022년도 컨설턴트 (헤드헌터/리써쳐) 모집 - 신입,경력 우대</td>\n",
              "      <td>신입/경력(연차무관)</td>\n",
              "      <td>서울 &gt; 강남구</td>\n",
              "      <td>경영,인사,총무,사무</td>\n",
              "      <td>none</td>\n",
              "      <td>none</td>\n",
              "      <td>중소기업</td>\n",
              "      <td>44725</td>\n",
              "      <td>[스킬, 대한, 레벨, 문화, 가족, 무엇, 서로, 코웍하, 초기, 정착, 합리, ...</td>\n",
              "      <td>[서치, 컨설턴트, 기업, 실무, 현재, 개인, 매출, 고민, 스킬, 레벨, 현재,...</td>\n",
              "      <td>[스킬, 대한, 레벨, 문화, 가족, 무엇, 서로, 코웍하, 초기, 정착, 합리, ...</td>\n",
              "      <td>0</td>\n",
              "    </tr>\n",
              "    <tr>\n",
              "      <th>367</th>\n",
              "      <td>용역·인력알선</td>\n",
              "      <td>모집) 헤드헌터 (2명) 모집 - 직업상담사 우대</td>\n",
              "      <td>경력1년이상</td>\n",
              "      <td>서울 &gt; 전지역</td>\n",
              "      <td>경영,인사,총무,사무</td>\n",
              "      <td>none</td>\n",
              "      <td>none</td>\n",
              "      <td>중소기업</td>\n",
              "      <td>44725</td>\n",
              "      <td>[인원, 헤드헌터, 고객, 발굴, 신규, 마케팅, 후보자, 추천, 후보자, 인터뷰,...</td>\n",
              "      <td>[인원, 헤드헌터, 고객, 발굴, 신규, 마케팅, 후보자, 추천, 후보자, 인터뷰,...</td>\n",
              "      <td>[인원, 헤드헌터, 고객, 발굴, 신규, 마케팅, 후보자, 추천, 후보자, 인터뷰,...</td>\n",
              "      <td>0</td>\n",
              "    </tr>\n",
              "    <tr>\n",
              "      <th>368</th>\n",
              "      <td>용역·인력알선</td>\n",
              "      <td>긴급) 헤드헌터 (2명) 모집 - 직업상담사 우대</td>\n",
              "      <td>경력1년이상</td>\n",
              "      <td>서울 &gt; 전지역</td>\n",
              "      <td>경영,인사,총무,사무</td>\n",
              "      <td>none</td>\n",
              "      <td>none</td>\n",
              "      <td>중소기업</td>\n",
              "      <td>44725</td>\n",
              "      <td>[인원, 헤드헌터, 고객, 발굴, 신규, 마케팅, 후보자, 추천, 후보자, 인터뷰,...</td>\n",
              "      <td>[인원, 헤드헌터, 고객, 발굴, 신규, 마케팅, 후보자, 추천, 후보자, 인터뷰,...</td>\n",
              "      <td>[인원, 헤드헌터, 고객, 발굴, 신규, 마케팅, 후보자, 추천, 후보자, 인터뷰,...</td>\n",
              "      <td>0</td>\n",
              "    </tr>\n",
              "    <tr>\n",
              "      <th>369</th>\n",
              "      <td>용역·인력알선</td>\n",
              "      <td>긴급) 헤드헌터 (2명) 모집 - 신입 또는 경력단절되신분 지원가능-직업상담사 우대</td>\n",
              "      <td>경력1년이하</td>\n",
              "      <td>서울 &gt; 강남구</td>\n",
              "      <td>경영,인사,총무,사무</td>\n",
              "      <td>none</td>\n",
              "      <td>none</td>\n",
              "      <td>중기업</td>\n",
              "      <td>44725</td>\n",
              "      <td>[숙지]</td>\n",
              "      <td>[모집, 부문, 인원, 헤드헌터, 고객, 발굴, 신규, 마케팅, 후보자, 추천, 후...</td>\n",
              "      <td>[숙지, 모집, 부문, 인원, 헤드헌터, 고객, 발굴, 신규, 마케팅, 후보자, 추...</td>\n",
              "      <td>0</td>\n",
              "    </tr>\n",
              "  </tbody>\n",
              "</table>\n",
              "</div>\n",
              "      <button class=\"colab-df-convert\" onclick=\"convertToInteractive('df-361a0b3d-2918-4675-9f24-06ddde579da3')\"\n",
              "              title=\"Convert this dataframe to an interactive table.\"\n",
              "              style=\"display:none;\">\n",
              "        \n",
              "  <svg xmlns=\"http://www.w3.org/2000/svg\" height=\"24px\"viewBox=\"0 0 24 24\"\n",
              "       width=\"24px\">\n",
              "    <path d=\"M0 0h24v24H0V0z\" fill=\"none\"/>\n",
              "    <path d=\"M18.56 5.44l.94 2.06.94-2.06 2.06-.94-2.06-.94-.94-2.06-.94 2.06-2.06.94zm-11 1L8.5 8.5l.94-2.06 2.06-.94-2.06-.94L8.5 2.5l-.94 2.06-2.06.94zm10 10l.94 2.06.94-2.06 2.06-.94-2.06-.94-.94-2.06-.94 2.06-2.06.94z\"/><path d=\"M17.41 7.96l-1.37-1.37c-.4-.4-.92-.59-1.43-.59-.52 0-1.04.2-1.43.59L10.3 9.45l-7.72 7.72c-.78.78-.78 2.05 0 2.83L4 21.41c.39.39.9.59 1.41.59.51 0 1.02-.2 1.41-.59l7.78-7.78 2.81-2.81c.8-.78.8-2.07 0-2.86zM5.41 20L4 18.59l7.72-7.72 1.47 1.35L5.41 20z\"/>\n",
              "  </svg>\n",
              "      </button>\n",
              "      \n",
              "  <style>\n",
              "    .colab-df-container {\n",
              "      display:flex;\n",
              "      flex-wrap:wrap;\n",
              "      gap: 12px;\n",
              "    }\n",
              "\n",
              "    .colab-df-convert {\n",
              "      background-color: #E8F0FE;\n",
              "      border: none;\n",
              "      border-radius: 50%;\n",
              "      cursor: pointer;\n",
              "      display: none;\n",
              "      fill: #1967D2;\n",
              "      height: 32px;\n",
              "      padding: 0 0 0 0;\n",
              "      width: 32px;\n",
              "    }\n",
              "\n",
              "    .colab-df-convert:hover {\n",
              "      background-color: #E2EBFA;\n",
              "      box-shadow: 0px 1px 2px rgba(60, 64, 67, 0.3), 0px 1px 3px 1px rgba(60, 64, 67, 0.15);\n",
              "      fill: #174EA6;\n",
              "    }\n",
              "\n",
              "    [theme=dark] .colab-df-convert {\n",
              "      background-color: #3B4455;\n",
              "      fill: #D2E3FC;\n",
              "    }\n",
              "\n",
              "    [theme=dark] .colab-df-convert:hover {\n",
              "      background-color: #434B5C;\n",
              "      box-shadow: 0px 1px 3px 1px rgba(0, 0, 0, 0.15);\n",
              "      filter: drop-shadow(0px 1px 2px rgba(0, 0, 0, 0.3));\n",
              "      fill: #FFFFFF;\n",
              "    }\n",
              "  </style>\n",
              "\n",
              "      <script>\n",
              "        const buttonEl =\n",
              "          document.querySelector('#df-361a0b3d-2918-4675-9f24-06ddde579da3 button.colab-df-convert');\n",
              "        buttonEl.style.display =\n",
              "          google.colab.kernel.accessAllowed ? 'block' : 'none';\n",
              "\n",
              "        async function convertToInteractive(key) {\n",
              "          const element = document.querySelector('#df-361a0b3d-2918-4675-9f24-06ddde579da3');\n",
              "          const dataTable =\n",
              "            await google.colab.kernel.invokeFunction('convertToInteractive',\n",
              "                                                     [key], {});\n",
              "          if (!dataTable) return;\n",
              "\n",
              "          const docLinkHtml = 'Like what you see? Visit the ' +\n",
              "            '<a target=\"_blank\" href=https://colab.research.google.com/notebooks/data_table.ipynb>data table notebook</a>'\n",
              "            + ' to learn more about interactive tables.';\n",
              "          element.innerHTML = '';\n",
              "          dataTable['output_type'] = 'display_data';\n",
              "          await google.colab.output.renderOutput(dataTable, element);\n",
              "          const docLink = document.createElement('div');\n",
              "          docLink.innerHTML = docLinkHtml;\n",
              "          element.appendChild(docLink);\n",
              "        }\n",
              "      </script>\n",
              "    </div>\n",
              "  </div>\n",
              "  "
            ]
          },
          "metadata": {},
          "execution_count": 52
        }
      ]
    },
    {
      "cell_type": "code",
      "source": [
        ""
      ],
      "metadata": {
        "id": "HUr78ExqWttw"
      },
      "execution_count": null,
      "outputs": []
    }
  ]
}